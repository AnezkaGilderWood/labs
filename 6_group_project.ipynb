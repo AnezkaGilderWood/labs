{
 "cells": [
  {
   "cell_type": "markdown",
   "id": "046723bc",
   "metadata": {},
   "source": [
    "# Notebook 6: Group Project"
   ]
  },
  {
   "cell_type": "markdown",
   "id": "c41cd81f",
   "metadata": {},
   "source": [
    "In this notebook, we introduce the group project element of this module. You should already have been provided with details of your group. \n",
    "\n",
    "## The project\n",
    "\n",
    "The goal of your project is **to write a software package which provides a command-line tool which enables users to solve the Time-Dependent Schrödinger Equation for an arbitrary user-specified potential**. How the project is implemented is up to the group (e.g. there is not requirement that you must use an object orientated approach, but the project will be evaluated on these criteria\n",
    "\n",
    "1. [40%] The quality of the software you deliver\n",
    "  * Does the software solve the problem posed?\n",
    "  * Is the implementation clear and conscise?\n",
    "  * Does the software enable users to access the module directly in addition to the command line?\n",
    "  * Is the software packaged and distributed so users can easily install it?\n",
    "2. [20%] The use of collaborative working tools\n",
    "  * Has the group used GitHub to build the project?\n",
    "  * Were Issues used to effectively distribute tasks\n",
    "  * Were Pull Requests used to enable collaborative development?\n",
    "  * Did the group perform code review?\n",
    "3. [20%] The application of standardized software development practises\n",
    "  * Is the software documented with clear docstrings?\n",
    "  * Does the software follow the Software Development Best Practises laid out in Worksheet 4?\n",
    "  * Have regression tests been written to cover a reasonable proportion of the software?\n",
    "  * Have the practises been followed through development?\n",
    "4. [10%] The development of integrated testing and documentation into your software\n",
    "  * Are the tests integrated into the CI and used to maintain quality?\n",
    "  * Has documentation been developed and available to the user?\n",
    "5. [10%] The extension of the basic module\n",
    "  * Has the basic concept been extended beyond the initial specification?"
   ]
  },
  {
   "cell_type": "markdown",
   "id": "3cd14368",
   "metadata": {},
   "source": [
    "## How to complete the project\n",
    "\n",
    "In the group project element of this module, you will use GitHub to plan and execute the building of a python package. Below, we provide a short list of actions your group should take.\n",
    "\n",
    "1. Create a GitHub repository for your software, you will need to pick one person to host it and a good name. They can then add all other members using the setting/Collaborators tab.\n",
    "2. Working together, create a list of issues (see the `issues` tab) planning out the development of the project. This need not be complete as new issues can be created as an when. A good initial issue might be \"Set up the basic python project\".\n",
    "3. Assign the issues to team members - they should then resolve the issues applying the concepts of GitHub Flow (i.e. create Pull Requests, request review, then merge once it is complete).\n",
    "4. Iterate 2-3 until you are ready to submit the project.\n",
    "5. To submit the project, email Greg Ashton with a link to your GitHub repository. All marks will be assigned for project as it exists on the submission day, and subsequent changes will be ignored. Note that marks can only be assigned for work which is clearly accessible via the GitHub link, so be sure to add a `README.md` explaining where to find all the parts of the software."
   ]
  }
 ],
 "metadata": {
  "kernelspec": {
   "display_name": "Python 3 (ipykernel)",
   "language": "python",
   "name": "python3"
  },
  "language_info": {
   "codemirror_mode": {
    "name": "ipython",
    "version": 3
   },
   "file_extension": ".py",
   "mimetype": "text/x-python",
   "name": "python",
   "nbconvert_exporter": "python",
   "pygments_lexer": "ipython3",
   "version": "3.9.7"
  }
 },
 "nbformat": 4,
 "nbformat_minor": 5
}
