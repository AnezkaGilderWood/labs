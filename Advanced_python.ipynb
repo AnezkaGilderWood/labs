{
 "cells": [
  {
   "cell_type": "markdown",
   "id": "569dfda2",
   "metadata": {},
   "source": [
    "# Developing, packaging, and distributing a python package"
   ]
  },
  {
   "cell_type": "markdown",
   "id": "eef78184",
   "metadata": {},
   "source": [
    "In this workshop, we will go through the life cycle of developing, packaging, and distribuing a python module. In so doing, we will cover multiple advanced python topics. Some of these, you will have seen before. But, here we want to emphasise elements of good software development practise.\n",
    "\n",
    "* Functions\n",
    "* Classes\n",
    "* Data I/O\n",
    "* Modules\n",
    "* Creating a package\n",
    "* Documentation\n",
    "* Distributing a package\n",
    "* Testing"
   ]
  },
  {
   "cell_type": "markdown",
   "id": "1d6e2233",
   "metadata": {},
   "source": [
    "## Strings"
   ]
  },
  {
   "cell_type": "markdown",
   "id": "c8f8aba9",
   "metadata": {},
   "source": [
    "Okay, you have seen strings before, but let's check you know about f-strings. If we want to print a message with a value inside, we can do that using Python3's f-strings"
   ]
  },
  {
   "cell_type": "code",
   "execution_count": 14,
   "id": "46d19d9c",
   "metadata": {},
   "outputs": [
    {
     "name": "stdout",
     "output_type": "stream",
     "text": [
      "pi is equal to 3.1415\n"
     ]
    }
   ],
   "source": [
    "pi = 3.14159265359\n",
    "print(f\"pi is equal to {pi}\")"
   ]
  },
  {
   "cell_type": "markdown",
   "id": "7b9b0e97",
   "metadata": {},
   "source": [
    "Note the `f` in front of the string - this makes it an f-string. You can also define a format, say you wanted to only print 2 decimal places"
   ]
  },
  {
   "cell_type": "code",
   "execution_count": 15,
   "id": "8e013b3f",
   "metadata": {},
   "outputs": [
    {
     "name": "stdout",
     "output_type": "stream",
     "text": [
      "pi is equal to 3.14\n"
     ]
    }
   ],
   "source": [
    "print(f\"pi is equal to {pi:0.2f}\")"
   ]
  },
  {
   "cell_type": "markdown",
   "id": "972b5c0a",
   "metadata": {},
   "source": [
    "Or, if you have a big number and want to you exponent notation"
   ]
  },
  {
   "cell_type": "code",
   "execution_count": 18,
   "id": "2b6bff02",
   "metadata": {},
   "outputs": [
    {
     "name": "stdout",
     "output_type": "stream",
     "text": [
      "My big number is 1.895e+13\n"
     ]
    }
   ],
   "source": [
    "big_number = 18947598428945.945\n",
    "print(f\"My big number is {big_number:0.4g}\")"
   ]
  },
  {
   "cell_type": "markdown",
   "id": "c0365c24",
   "metadata": {},
   "source": [
    "## Functions\n",
    "\n",
    "By now, you will no doubt have seen functions in python, but let's give an example anyway:"
   ]
  },
  {
   "cell_type": "code",
   "execution_count": 3,
   "id": "c4f07f0f",
   "metadata": {},
   "outputs": [],
   "source": [
    "def my_function(x):\n",
    "    return x.split(\"@\")[0]"
   ]
  },
  {
   "cell_type": "markdown",
   "id": "cbed0ef3",
   "metadata": {},
   "source": [
    "This is a function, but it is a badly written function. As a user, I have no idea what it does, what the inputs are, or what it should return! Let's fix that by adding a `docstring`:"
   ]
  },
  {
   "cell_type": "code",
   "execution_count": 22,
   "id": "98f38ea9",
   "metadata": {},
   "outputs": [],
   "source": [
    "def get_username(email_address):\n",
    "    \"\"\" Returns the username from an email address\n",
    "     \n",
    "    Parameters\n",
    "    ----------\n",
    "    email_address: string\n",
    "        The users email address, e.g. user123@rhul.ac.uk\n",
    "        \n",
    "    Returns\n",
    "    -------\n",
    "    username: str\n",
    "        The users username\n",
    "        \n",
    "    Examples\n",
    "    --------\n",
    "    >>> get_username(\"user123@rhul.ac.uk\")\n",
    "    \"user123\"\n",
    "    \n",
    "    \"\"\"\n",
    "    return email_address.split(\"@\")[0]"
   ]
  },
  {
   "cell_type": "markdown",
   "id": "adcdc5f5",
   "metadata": {},
   "source": [
    "Okay, that is better, I changed the function name and the docstring now tells me to do with the function (even giving a nice example!). But, the program itself is still a bit weird..what happens if the user gives it a `float` instead?"
   ]
  },
  {
   "cell_type": "code",
   "execution_count": 23,
   "id": "3ae4a4e2",
   "metadata": {},
   "outputs": [
    {
     "ename": "AttributeError",
     "evalue": "'int' object has no attribute 'split'",
     "output_type": "error",
     "traceback": [
      "\u001b[0;31m---------------------------------------------------------------------------\u001b[0m",
      "\u001b[0;31mAttributeError\u001b[0m                            Traceback (most recent call last)",
      "Input \u001b[0;32mIn [23]\u001b[0m, in \u001b[0;36m<module>\u001b[0;34m\u001b[0m\n\u001b[0;32m----> 1\u001b[0m \u001b[43mget_username\u001b[49m\u001b[43m(\u001b[49m\u001b[38;5;241;43m123\u001b[39;49m\u001b[43m)\u001b[49m\n",
      "Input \u001b[0;32mIn [22]\u001b[0m, in \u001b[0;36mget_username\u001b[0;34m(email_address)\u001b[0m\n\u001b[1;32m      1\u001b[0m \u001b[38;5;28;01mdef\u001b[39;00m \u001b[38;5;21mget_username\u001b[39m(email_address):\n\u001b[1;32m      2\u001b[0m     \u001b[38;5;124;03m\"\"\" Returns the username from an email address\u001b[39;00m\n\u001b[1;32m      3\u001b[0m \u001b[38;5;124;03m     \u001b[39;00m\n\u001b[1;32m      4\u001b[0m \u001b[38;5;124;03m    Parameters\u001b[39;00m\n\u001b[0;32m   (...)\u001b[0m\n\u001b[1;32m     18\u001b[0m \u001b[38;5;124;03m    \u001b[39;00m\n\u001b[1;32m     19\u001b[0m \u001b[38;5;124;03m    \"\"\"\u001b[39;00m\n\u001b[0;32m---> 20\u001b[0m     \u001b[38;5;28;01mreturn\u001b[39;00m \u001b[43memail_address\u001b[49m\u001b[38;5;241;43m.\u001b[39;49m\u001b[43msplit\u001b[49m(\u001b[38;5;124m\"\u001b[39m\u001b[38;5;124m@\u001b[39m\u001b[38;5;124m\"\u001b[39m)[\u001b[38;5;241m0\u001b[39m]\n",
      "\u001b[0;31mAttributeError\u001b[0m: 'int' object has no attribute 'split'"
     ]
    }
   ],
   "source": [
    "get_username(123)"
   ]
  },
  {
   "cell_type": "markdown",
   "id": "6f697c64",
   "metadata": {},
   "source": [
    "Oh, that isn't very useful. Let's improve things by telling the user when they do it wrong"
   ]
  },
  {
   "cell_type": "code",
   "execution_count": 24,
   "id": "5d4ef902",
   "metadata": {},
   "outputs": [],
   "source": [
    "def get_username(email_address):\n",
    "    \"\"\" Returns the username from an email address\n",
    "     \n",
    "    Parameters\n",
    "    ----------\n",
    "    email_address: string\n",
    "        The users email address, e.g. user123@rhul.ac.uk\n",
    "        \n",
    "    Returns\n",
    "    -------\n",
    "    username: str\n",
    "        The users username\n",
    "        \n",
    "    Examples\n",
    "    --------\n",
    "    >>> get_username(\"user123@rhul.ac.uk\")\n",
    "    \"user123\"\n",
    "    \n",
    "    \"\"\"\n",
    "    if isinstance(email_address, str) and \"@\" in email_address:\n",
    "        return email_address.split(\"@\")[0]\n",
    "    else:\n",
    "        raise ValueError(f\"The input {email_address} is not a valid email addres\")"
   ]
  },
  {
   "cell_type": "markdown",
   "id": "bc85c5be",
   "metadata": {},
   "source": [
    "Okay, let's check that works as expected"
   ]
  },
  {
   "cell_type": "code",
   "execution_count": 21,
   "id": "df6867d0",
   "metadata": {},
   "outputs": [
    {
     "data": {
      "text/plain": [
       "'user123'"
      ]
     },
     "execution_count": 21,
     "metadata": {},
     "output_type": "execute_result"
    }
   ],
   "source": [
    "get_username(\"user123@rhul.ac.uk\")"
   ]
  },
  {
   "cell_type": "code",
   "execution_count": 25,
   "id": "8e18cc74",
   "metadata": {},
   "outputs": [
    {
     "ename": "ValueError",
     "evalue": "The input 123 is not a valid email addres",
     "output_type": "error",
     "traceback": [
      "\u001b[0;31m---------------------------------------------------------------------------\u001b[0m",
      "\u001b[0;31mValueError\u001b[0m                                Traceback (most recent call last)",
      "Input \u001b[0;32mIn [25]\u001b[0m, in \u001b[0;36m<module>\u001b[0;34m\u001b[0m\n\u001b[0;32m----> 1\u001b[0m \u001b[43mget_username\u001b[49m\u001b[43m(\u001b[49m\u001b[38;5;241;43m123\u001b[39;49m\u001b[43m)\u001b[49m\n",
      "Input \u001b[0;32mIn [24]\u001b[0m, in \u001b[0;36mget_username\u001b[0;34m(email_address)\u001b[0m\n\u001b[1;32m     21\u001b[0m     \u001b[38;5;28;01mreturn\u001b[39;00m email_address\u001b[38;5;241m.\u001b[39msplit(\u001b[38;5;124m\"\u001b[39m\u001b[38;5;124m@\u001b[39m\u001b[38;5;124m\"\u001b[39m)[\u001b[38;5;241m0\u001b[39m]\n\u001b[1;32m     22\u001b[0m \u001b[38;5;28;01melse\u001b[39;00m:\n\u001b[0;32m---> 23\u001b[0m     \u001b[38;5;28;01mraise\u001b[39;00m \u001b[38;5;167;01mValueError\u001b[39;00m(\u001b[38;5;124mf\u001b[39m\u001b[38;5;124m\"\u001b[39m\u001b[38;5;124mThe input \u001b[39m\u001b[38;5;132;01m{\u001b[39;00memail_address\u001b[38;5;132;01m}\u001b[39;00m\u001b[38;5;124m is not a valid email addres\u001b[39m\u001b[38;5;124m\"\u001b[39m)\n",
      "\u001b[0;31mValueError\u001b[0m: The input 123 is not a valid email addres"
     ]
    }
   ],
   "source": [
    "get_username(123)"
   ]
  },
  {
   "cell_type": "markdown",
   "id": "ad7593b6",
   "metadata": {},
   "source": [
    "## Classes"
   ]
  },
  {
   "cell_type": "markdown",
   "id": "3752e0fc",
   "metadata": {},
   "source": [
    "Classes are a powerful way way to tie together data and methods which act on that data. "
   ]
  },
  {
   "cell_type": "code",
   "execution_count": null,
   "id": "c5303906",
   "metadata": {},
   "outputs": [],
   "source": [
    "class TimeSeries(object):\n",
    "    def __init__(self, x, y):\n",
    "        self.x = x\n",
    "        self.y = y\n",
    "        \n",
    "    def sampling_frequency(self):\n",
    "        "
   ]
  },
  {
   "cell_type": "markdown",
   "id": "84cb3fb0",
   "metadata": {},
   "source": [
    "## Data"
   ]
  },
  {
   "cell_type": "markdown",
   "id": "edb46bc5",
   "metadata": {},
   "source": [
    "## Modules"
   ]
  },
  {
   "cell_type": "markdown",
   "id": "30e1a1e8",
   "metadata": {},
   "source": [
    "## Packages"
   ]
  },
  {
   "cell_type": "markdown",
   "id": "b1267289",
   "metadata": {},
   "source": [
    "## Versioning"
   ]
  },
  {
   "cell_type": "markdown",
   "id": "8ffe9fb2",
   "metadata": {},
   "source": [
    "## Documentation"
   ]
  },
  {
   "cell_type": "markdown",
   "id": "f754ba8b",
   "metadata": {},
   "source": [
    "## Distributing a package"
   ]
  },
  {
   "cell_type": "markdown",
   "id": "e16b4f1c",
   "metadata": {},
   "source": [
    "## Testing"
   ]
  },
  {
   "cell_type": "markdown",
   "id": "99a85920",
   "metadata": {},
   "source": [
    "## Distributed development"
   ]
  },
  {
   "cell_type": "markdown",
   "id": "d8bb1c0c",
   "metadata": {},
   "source": [
    "## Continuous Integration"
   ]
  },
  {
   "cell_type": "markdown",
   "id": "ca51cbfe",
   "metadata": {},
   "source": [
    "Aut"
   ]
  }
 ],
 "metadata": {
  "kernelspec": {
   "display_name": "Python 3 (ipykernel)",
   "language": "python",
   "name": "python3"
  },
  "language_info": {
   "codemirror_mode": {
    "name": "ipython",
    "version": 3
   },
   "file_extension": ".py",
   "mimetype": "text/x-python",
   "name": "python",
   "nbconvert_exporter": "python",
   "pygments_lexer": "ipython3",
   "version": "3.9.7"
  }
 },
 "nbformat": 4,
 "nbformat_minor": 5
}
