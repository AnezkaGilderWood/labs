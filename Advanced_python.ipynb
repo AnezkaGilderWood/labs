{
 "cells": [
  {
   "cell_type": "code",
   "execution_count": 70,
   "id": "4c13abc2",
   "metadata": {},
   "outputs": [],
   "source": [
    "import numpy as np\n",
    "import pandas as pd"
   ]
  },
  {
   "cell_type": "markdown",
   "id": "569dfda2",
   "metadata": {},
   "source": [
    "# Developing, packaging, and distributing a python package"
   ]
  },
  {
   "cell_type": "markdown",
   "id": "eef78184",
   "metadata": {},
   "source": [
    "In this workshop, we will go through the life cycle of developing, packaging, and distribuing a python module. In so doing, we will cover multiple advanced python topics. Some of these, you will have seen before. But, here we want to emphasise elements of good software development practise.\n",
    "\n",
    "* Functions\n",
    "* Classes\n",
    "* Data I/O\n",
    "* Modules\n",
    "* Creating a package\n",
    "* Documentation\n",
    "* Distributing a package\n",
    "* Testing"
   ]
  },
  {
   "cell_type": "markdown",
   "id": "14da6dfa",
   "metadata": {},
   "source": [
    "## Strings"
   ]
  },
  {
   "cell_type": "markdown",
   "id": "e25e75d9",
   "metadata": {},
   "source": [
    "Okay, you have seen strings before, but let's check you know about f-strings. If we want to print a message with a value inside, we can do that using Python3's f-strings"
   ]
  },
  {
   "cell_type": "code",
   "execution_count": 14,
   "id": "88841239",
   "metadata": {},
   "outputs": [
    {
     "name": "stdout",
     "output_type": "stream",
     "text": [
      "pi is equal to 3.1415\n"
     ]
    }
   ],
   "source": [
    "pi = 3.14159265359\n",
    "print(f\"pi is equal to {pi}\")"
   ]
  },
  {
   "cell_type": "markdown",
   "id": "01518836",
   "metadata": {},
   "source": [
    "Note the `f` in front of the string - this makes it an f-string. You can also define a format, say you wanted to only print 2 decimal places"
   ]
  },
  {
   "cell_type": "code",
   "execution_count": 15,
   "id": "6a51ea58",
   "metadata": {},
   "outputs": [
    {
     "name": "stdout",
     "output_type": "stream",
     "text": [
      "pi is equal to 3.14\n"
     ]
    }
   ],
   "source": [
    "print(f\"pi is equal to {pi:0.2f}\")"
   ]
  },
  {
   "cell_type": "markdown",
   "id": "2ce7be1b",
   "metadata": {},
   "source": [
    "Or, if you have a big number and want to you exponent notation"
   ]
  },
  {
   "cell_type": "code",
   "execution_count": 18,
   "id": "7ea748ea",
   "metadata": {},
   "outputs": [
    {
     "name": "stdout",
     "output_type": "stream",
     "text": [
      "My big number is 1.895e+13\n"
     ]
    }
   ],
   "source": [
    "big_number = 18947598428945.945\n",
    "print(f\"My big number is {big_number:0.4g}\")"
   ]
  },
  {
   "cell_type": "markdown",
   "id": "82c48254",
   "metadata": {},
   "source": [
    "## Dictionaries\n",
    "\n",
    "These are useful ways to store data which is indexed in a meaningful way. You can create them in two different ways:"
   ]
  },
  {
   "cell_type": "code",
   "execution_count": 67,
   "id": "ad4dbe5f",
   "metadata": {},
   "outputs": [
    {
     "data": {
      "text/plain": [
       "True"
      ]
     },
     "execution_count": 67,
     "metadata": {},
     "output_type": "execute_result"
    }
   ],
   "source": [
    "sun = dict(\n",
    "    mass=2e30, #kg\n",
    "    radius=7e9 #m\n",
    ")\n",
    "earth = {\n",
    "    \"mass\": 6e24, #kg\n",
    "    \"radius\": 6e9 #m\n",
    "}\n",
    "\n",
    "sun[\"mass\"] > earth[\"mass\"]"
   ]
  },
  {
   "cell_type": "markdown",
   "id": "c0365c24",
   "metadata": {},
   "source": [
    "## Functions and Errors\n",
    "\n",
    "By now, you will no doubt have seen functions in python, but let's give an example anyway:"
   ]
  },
  {
   "cell_type": "code",
   "execution_count": 3,
   "id": "c4f07f0f",
   "metadata": {},
   "outputs": [],
   "source": [
    "def my_function(x):\n",
    "    return x.split(\"@\")[0]"
   ]
  },
  {
   "cell_type": "markdown",
   "id": "0986c498",
   "metadata": {},
   "source": [
    "This is a function, but it is a badly written function. As a user, I have no idea what it does, what the inputs are, or what it should return! Let's fix that by adding a `docstring`:"
   ]
  },
  {
   "cell_type": "code",
   "execution_count": 22,
   "id": "b12c0815",
   "metadata": {},
   "outputs": [],
   "source": [
    "def get_username(email_address):\n",
    "    \"\"\" Returns the username from an email address\n",
    "     \n",
    "    Parameters\n",
    "    ----------\n",
    "    email_address: string\n",
    "        The users email address, e.g. user123@rhul.ac.uk\n",
    "        \n",
    "    Returns\n",
    "    -------\n",
    "    username: str\n",
    "        The users username\n",
    "        \n",
    "    Examples\n",
    "    --------\n",
    "    >>> get_username(\"user123@rhul.ac.uk\")\n",
    "    \"user123\"\n",
    "    \n",
    "    \"\"\"\n",
    "    return email_address.split(\"@\")[0]"
   ]
  },
  {
   "cell_type": "markdown",
   "id": "9e4e32e8",
   "metadata": {},
   "source": [
    "Okay, that is better, I changed the function name and the docstring now tells me to do with the function (even giving a nice example!). But, the program itself is still a bit weird..what happens if the user gives it a `float` instead?"
   ]
  },
  {
   "cell_type": "code",
   "execution_count": 23,
   "id": "1002fcf9",
   "metadata": {},
   "outputs": [
    {
     "ename": "AttributeError",
     "evalue": "'int' object has no attribute 'split'",
     "output_type": "error",
     "traceback": [
      "\u001b[0;31m---------------------------------------------------------------------------\u001b[0m",
      "\u001b[0;31mAttributeError\u001b[0m                            Traceback (most recent call last)",
      "Input \u001b[0;32mIn [23]\u001b[0m, in \u001b[0;36m<module>\u001b[0;34m\u001b[0m\n\u001b[0;32m----> 1\u001b[0m \u001b[43mget_username\u001b[49m\u001b[43m(\u001b[49m\u001b[38;5;241;43m123\u001b[39;49m\u001b[43m)\u001b[49m\n",
      "Input \u001b[0;32mIn [22]\u001b[0m, in \u001b[0;36mget_username\u001b[0;34m(email_address)\u001b[0m\n\u001b[1;32m      1\u001b[0m \u001b[38;5;28;01mdef\u001b[39;00m \u001b[38;5;21mget_username\u001b[39m(email_address):\n\u001b[1;32m      2\u001b[0m     \u001b[38;5;124;03m\"\"\" Returns the username from an email address\u001b[39;00m\n\u001b[1;32m      3\u001b[0m \u001b[38;5;124;03m     \u001b[39;00m\n\u001b[1;32m      4\u001b[0m \u001b[38;5;124;03m    Parameters\u001b[39;00m\n\u001b[0;32m   (...)\u001b[0m\n\u001b[1;32m     18\u001b[0m \u001b[38;5;124;03m    \u001b[39;00m\n\u001b[1;32m     19\u001b[0m \u001b[38;5;124;03m    \"\"\"\u001b[39;00m\n\u001b[0;32m---> 20\u001b[0m     \u001b[38;5;28;01mreturn\u001b[39;00m \u001b[43memail_address\u001b[49m\u001b[38;5;241;43m.\u001b[39;49m\u001b[43msplit\u001b[49m(\u001b[38;5;124m\"\u001b[39m\u001b[38;5;124m@\u001b[39m\u001b[38;5;124m\"\u001b[39m)[\u001b[38;5;241m0\u001b[39m]\n",
      "\u001b[0;31mAttributeError\u001b[0m: 'int' object has no attribute 'split'"
     ]
    }
   ],
   "source": [
    "get_username(123)"
   ]
  },
  {
   "cell_type": "markdown",
   "id": "a7508de8",
   "metadata": {},
   "source": [
    "Oh, that isn't very useful. Let's improve things by telling the user when they do it wrong"
   ]
  },
  {
   "cell_type": "code",
   "execution_count": 24,
   "id": "1fd056c3",
   "metadata": {},
   "outputs": [],
   "source": [
    "def get_username(email_address):\n",
    "    \"\"\" Returns the username from an email address\n",
    "     \n",
    "    Parameters\n",
    "    ----------\n",
    "    email_address: string\n",
    "        The users email address, e.g. user123@rhul.ac.uk\n",
    "        \n",
    "    Returns\n",
    "    -------\n",
    "    username: str\n",
    "        The users username\n",
    "        \n",
    "    Examples\n",
    "    --------\n",
    "    >>> get_username(\"user123@rhul.ac.uk\")\n",
    "    \"user123\"\n",
    "    \n",
    "    \"\"\"\n",
    "    if isinstance(email_address, str) and \"@\" in email_address:\n",
    "        return email_address.split(\"@\")[0]\n",
    "    else:\n",
    "        raise ValueError(f\"The input {email_address} is not a valid email address\")"
   ]
  },
  {
   "cell_type": "markdown",
   "id": "feec9481",
   "metadata": {},
   "source": [
    "Okay, let's check that works as expected"
   ]
  },
  {
   "cell_type": "code",
   "execution_count": 21,
   "id": "fed51c54",
   "metadata": {},
   "outputs": [
    {
     "data": {
      "text/plain": [
       "'user123'"
      ]
     },
     "execution_count": 21,
     "metadata": {},
     "output_type": "execute_result"
    }
   ],
   "source": [
    "get_username(\"user123@rhul.ac.uk\")"
   ]
  },
  {
   "cell_type": "code",
   "execution_count": 25,
   "id": "261dda34",
   "metadata": {},
   "outputs": [
    {
     "ename": "ValueError",
     "evalue": "The input 123 is not a valid email address",
     "output_type": "error",
     "traceback": [
      "\u001b[0;31m---------------------------------------------------------------------------\u001b[0m",
      "\u001b[0;31mValueError\u001b[0m                                Traceback (most recent call last)",
      "Input \u001b[0;32mIn [25]\u001b[0m, in \u001b[0;36m<module>\u001b[0;34m\u001b[0m\n\u001b[0;32m----> 1\u001b[0m \u001b[43mget_username\u001b[49m\u001b[43m(\u001b[49m\u001b[38;5;241;43m123\u001b[39;49m\u001b[43m)\u001b[49m\n",
      "Input \u001b[0;32mIn [24]\u001b[0m, in \u001b[0;36mget_username\u001b[0;34m(email_address)\u001b[0m\n\u001b[1;32m     21\u001b[0m     \u001b[38;5;28;01mreturn\u001b[39;00m email_address\u001b[38;5;241m.\u001b[39msplit(\u001b[38;5;124m\"\u001b[39m\u001b[38;5;124m@\u001b[39m\u001b[38;5;124m\"\u001b[39m)[\u001b[38;5;241m0\u001b[39m]\n\u001b[1;32m     22\u001b[0m \u001b[38;5;28;01melse\u001b[39;00m:\n\u001b[0;32m---> 23\u001b[0m     \u001b[38;5;28;01mraise\u001b[39;00m \u001b[38;5;167;01mValueError\u001b[39;00m(\u001b[38;5;124mf\u001b[39m\u001b[38;5;124m\"\u001b[39m\u001b[38;5;124mThe input \u001b[39m\u001b[38;5;132;01m{\u001b[39;00memail_address\u001b[38;5;132;01m}\u001b[39;00m\u001b[38;5;124m is not a valid email address\u001b[39m\u001b[38;5;124m\"\u001b[39m)\n",
      "\u001b[0;31mValueError\u001b[0m: The input 123 is not a valid email address"
     ]
    }
   ],
   "source": [
    "get_username(123)"
   ]
  },
  {
   "cell_type": "markdown",
   "id": "e38312aa",
   "metadata": {},
   "source": [
    "Okay, that is much better. \n",
    "\n",
    "Perhaps the most fun one can have with `functions` is recursive functions, that is a function which calls itself. For example, imagine we have a nested data structure of the names of students in a school. It is given in a dictionary of dictionaries where the top level is the year group, then the next level is the class name (they use animal names for each class). It might look something like"
   ]
  },
  {
   "cell_type": "code",
   "execution_count": 57,
   "id": "927e427d",
   "metadata": {},
   "outputs": [],
   "source": [
    "roster = dict(\n",
    "    year_1=dict(\n",
    "        tigers=[\"greg\", \"surabhi\", \"jamil\", \"nicolo\"],\n",
    "        elephants=[\"kayan\", \"casper\", \"emily\"]\n",
    "    ),\n",
    "    year_2=dict(\n",
    "        gazelle=[\"robert\", \"woody\", \"charlotte\"],\n",
    "        elephants=[\"robyn\", \"rory\"]\n",
    "    )\n",
    ")"
   ]
  },
  {
   "cell_type": "markdown",
   "id": "623358d5",
   "metadata": {},
   "source": [
    "How can we count the total number of students? We can use a recursive function which calls itself!"
   ]
  },
  {
   "cell_type": "code",
   "execution_count": 60,
   "id": "7b09d6c5",
   "metadata": {},
   "outputs": [
    {
     "data": {
      "text/plain": [
       "12"
      ]
     },
     "execution_count": 60,
     "metadata": {},
     "output_type": "execute_result"
    }
   ],
   "source": [
    "def count_students(inputs, total=0):\n",
    "    if isinstance(inputs, dict):\n",
    "        for key in inputs:\n",
    "            total = count_students(inputs[key], total)\n",
    "    elif isinstance(inputs, list):\n",
    "        total += len(inputs)\n",
    "    return total\n",
    "        \n",
    "count_students(roster)"
   ]
  },
  {
   "cell_type": "markdown",
   "id": "6cfe1c57",
   "metadata": {},
   "source": [
    "The nice thing is, we don't need to know in advance how complicated the list is. If teachers add sub-classes, then it will still work."
   ]
  },
  {
   "cell_type": "markdown",
   "id": "7053f234",
   "metadata": {},
   "source": [
    "<div class=\"alert alert-block alert-danger\">\n",
    "<b>Challenge:</b> Write a recursive function to calculate the factorial function $f(N) = N\\times(N-1)\\times(N-2)\\ldots1$\n",
    "</div>"
   ]
  },
  {
   "cell_type": "markdown",
   "id": "680cd52f",
   "metadata": {},
   "source": [
    "## Classes"
   ]
  },
  {
   "cell_type": "markdown",
   "id": "2b81b079",
   "metadata": {},
   "source": [
    "Classes are a powerful way way to tie together data, and methods which act on that data. They also enable *inheritance*. That is the idea that we can build classes from other classes, inheriting there methods. As an example, here is a set of classes which add dimensional units to python floats."
   ]
  },
  {
   "cell_type": "code",
   "execution_count": 45,
   "id": "a3952615",
   "metadata": {},
   "outputs": [],
   "source": [
    "class Unit(float):\n",
    "    def __init__(self, value, si_base):\n",
    "        \"\"\" Generic base class for units\n",
    "        \n",
    "        This base class should not be used directly, but all Unit classes should inherit from it\n",
    "        \n",
    "        Parameters\n",
    "        ----------\n",
    "        value: float\n",
    "            The value of the float\n",
    "        si_base: str\n",
    "            The si base unit of the quantity\n",
    "        \"\"\"\n",
    "        self.value = value\n",
    "        self.si_base = si_base\n",
    "        \n",
    "    def __str__(self):\n",
    "        \"\"\" When str() is called on the instance, return a string with units attached \"\"\"\n",
    "        return f\"{self.value} [{self.units}]\"\n",
    "    \n",
    "    @property\n",
    "    def units(self):\n",
    "        \"\"\" A units property, returns the si_base unit string\n",
    "        \n",
    "        Example\n",
    "        -------\n",
    "        >>> x = Unit(value=2, si_base=\"m\")\n",
    "        >>> x.units\n",
    "        \"m\"\n",
    "        \"\"\"\n",
    "        return self.si_base\n",
    "    \n",
    "    def __add__(u1, u2):\n",
    "        \"\"\" Method to add to Unit instances together\n",
    "        \n",
    "        Note: this does not check that the units are the same!\n",
    "        \"\"\"\n",
    "        return u1.__class__(u1.value + u2.value)\n",
    "    \n",
    "    def __sub__(u1, u2):\n",
    "        \"\"\" Method to subtract Unit instances together\n",
    "        \n",
    "        Note: this does not check that the units are the same!\n",
    "        \"\"\"\n",
    "        return u1.__class__(u1.value - u2.value)\n",
    "    \n",
    "    def __mul__(u1, u2):\n",
    "        \"\"\" Method to multiple Unit instances together\"\"\"\n",
    "        derived_si_base = f\"{u1.si_base}*{u2.si_base}\"\n",
    "        return DerivedUnit(value=u1.value * u2.value, si_base=derived_si_base)\n",
    "    \n",
    "    def __truediv__(u1, u2):\n",
    "        \"\"\" Method to divide Unit instances\"\"\"\n",
    "        derived_si_base = f\"{u1.si_base}/{u2.si_base}\"\n",
    "        return DerivedUnit(value=u1.value * u2.value, si_base=derived_si_base)\n",
    "    \n",
    "\n",
    "class DerivedUnit(Unit):\n",
    "    def __init__(self, value, si_base):\n",
    "        \"\"\" A class for derived units, e.g. the product/division of two Unit classes \"\"\"\n",
    "        super().__init__(value, si_base)\n",
    "        \n",
    "class Distance(Unit):\n",
    "    def __init__(self, value):\n",
    "        \"\"\" SI units for distance \"\"\"\n",
    "        super().__init__(value, si_base=\"m\")\n",
    "\n",
    "        \n",
    "class Time(Unit):\n",
    "    def __init__(self, value):\n",
    "        \"\"\" SI units for distance \"\"\"\n",
    "        super().__init__(value, si_base=\"s\")      "
   ]
  },
  {
   "cell_type": "markdown",
   "id": "45af6007",
   "metadata": {},
   "source": [
    "Okay, there is a lot going on in that cell. Skim over the documentation then take a look at the examples below.\n",
    "\n",
    "We can define a distance and get a representation including units"
   ]
  },
  {
   "cell_type": "code",
   "execution_count": 46,
   "id": "aa902e33",
   "metadata": {},
   "outputs": [
    {
     "data": {
      "text/plain": [
       "'10 [m]'"
      ]
     },
     "execution_count": 46,
     "metadata": {},
     "output_type": "execute_result"
    }
   ],
   "source": [
    "x = Distance(10) \n",
    "x_as_a_string = str(x)\n",
    "x_as_a_string"
   ]
  },
  {
   "cell_type": "markdown",
   "id": "c0e4b246",
   "metadata": {},
   "source": [
    "This conversion gets done automatically when we `print` the variable as well"
   ]
  },
  {
   "cell_type": "code",
   "execution_count": 47,
   "id": "4db8c872",
   "metadata": {},
   "outputs": [
    {
     "name": "stdout",
     "output_type": "stream",
     "text": [
      "10 [m]\n"
     ]
    }
   ],
   "source": [
    "print(x)"
   ]
  },
  {
   "cell_type": "markdown",
   "id": "6966f0d3",
   "metadata": {},
   "source": [
    "We can also combine quantities together"
   ]
  },
  {
   "cell_type": "code",
   "execution_count": 48,
   "id": "40f2c116",
   "metadata": {},
   "outputs": [
    {
     "name": "stdout",
     "output_type": "stream",
     "text": [
      "30 [m/s]\n"
     ]
    }
   ],
   "source": [
    "x = Distance(10) \n",
    "t = Time(3)\n",
    "\n",
    "print(x / t)"
   ]
  },
  {
   "cell_type": "markdown",
   "id": "803d9deb",
   "metadata": {},
   "source": [
    "Note this is a fairly limited implementation. The `Unit` classes above have oone cruical issue. I can add distances and times together! "
   ]
  },
  {
   "cell_type": "code",
   "execution_count": 53,
   "id": "a320b623",
   "metadata": {},
   "outputs": [
    {
     "name": "stdout",
     "output_type": "stream",
     "text": [
      "13 [m]\n"
     ]
    }
   ],
   "source": [
    "print(x + t)"
   ]
  },
  {
   "cell_type": "markdown",
   "id": "2e07a42e",
   "metadata": {},
   "source": [
    "<div class=\"alert alert-block alert-danger\">\n",
    "<b>Challenge:</b> Add a ValueError to the `Unit` class so that an error is raised when you try to add units together which don't have the same units.\n",
    "</div>"
   ]
  },
  {
   "cell_type": "markdown",
   "id": "5b6ac151",
   "metadata": {},
   "source": [
    "There are many nice packages which implement units (for example [units](https://pypi.org/project/units/)). These include all sorts of clever features. But, it is still fun to implement things from scratch to see how they work"
   ]
  },
  {
   "cell_type": "markdown",
   "id": "fde25c4f",
   "metadata": {},
   "source": [
    "## Data\n",
    "\n",
    "In computational physics, we frequently need to store data. This might be the output of a simulation, or  data from a telescope/collider. Inside of a `python` program, it is often a good idea to collect data into a class. For example, let's say we have a time series of data recorded from a measurement device, we could store it in a class like this"
   ]
  },
  {
   "cell_type": "code",
   "execution_count": 83,
   "id": "1e362e04",
   "metadata": {},
   "outputs": [],
   "source": [
    "class TimeSeries(object):\n",
    "    def __init__(self, times, data):\n",
    "        \"\"\" An object to store data \n",
    "        \n",
    "        Parameters\n",
    "        ----------\n",
    "        times: array\n",
    "            The array of times\n",
    "        data: array\n",
    "            The array of data\n",
    "        \"\"\"\n",
    "        self.times = times\n",
    "        self.data = data\n",
    "        \n",
    "        \n",
    "x = np.linspace(0, 1, 5)\n",
    "y = np.sin(x)\n",
    "timeseries = TimeSeries(x, y)"
   ]
  },
  {
   "cell_type": "markdown",
   "id": "5a445cd7",
   "metadata": {},
   "source": [
    "<div class=\"alert alert-block alert-danger\">\n",
    "<b>Challenge:</b> Add `plot` method to the TimeSeries class which plots the data\n",
    "</div>\n"
   ]
  },
  {
   "cell_type": "markdown",
   "id": "cabab89e",
   "metadata": {},
   "source": [
    "Now, you may want to store the times series data to disk for later analysis, or perhaps to publish it. There are many ways to do this. You should choose the best method for the problem. Here we give a quick overview of some common read/write formats, implemented as functions which accept a `TimeSeries` instance"
   ]
  },
  {
   "cell_type": "code",
   "execution_count": 84,
   "id": "de41b402",
   "metadata": {},
   "outputs": [],
   "source": [
    "def use_print_to_write_a_csv(timeseries, filename):\n",
    "    with open(filename, \"w+\") as file: \n",
    "        for t, d in zip(timeseries.times, timeseries.data):\n",
    "            print(f\"{t},{d}\", file=file)\n",
    "        \n",
    "use_print_to_write_a_csv(timeseries, \"use_print_to_write_a_csv_example.csv\")"
   ]
  },
  {
   "cell_type": "code",
   "execution_count": 85,
   "id": "d104f15f",
   "metadata": {},
   "outputs": [
    {
     "name": "stdout",
     "output_type": "stream",
     "text": [
      "0.0,0.0\r\n",
      "0.25,0.24740395925452294\r\n",
      "0.5,0.479425538604203\r\n",
      "0.75,0.6816387600233341\r\n",
      "1.0,0.8414709848078965\r\n"
     ]
    }
   ],
   "source": [
    "! cat use_print_to_write_a_csv_example.csv"
   ]
  },
  {
   "cell_type": "markdown",
   "id": "9ab5b328",
   "metadata": {},
   "source": [
    "## Modules"
   ]
  },
  {
   "cell_type": "markdown",
   "id": "44c19f6d",
   "metadata": {},
   "source": [
    "## Packages"
   ]
  },
  {
   "cell_type": "markdown",
   "id": "406d5adb",
   "metadata": {},
   "source": [
    "## Versioning"
   ]
  },
  {
   "cell_type": "markdown",
   "id": "c827eed9",
   "metadata": {},
   "source": [
    "## Documentation"
   ]
  },
  {
   "cell_type": "markdown",
   "id": "a52e7fc1",
   "metadata": {},
   "source": [
    "## Distributing a package"
   ]
  },
  {
   "cell_type": "markdown",
   "id": "a7a801bf",
   "metadata": {},
   "source": [
    "## Testing"
   ]
  },
  {
   "cell_type": "markdown",
   "id": "8b59aaab",
   "metadata": {},
   "source": [
    "## Distributed development"
   ]
  },
  {
   "cell_type": "markdown",
   "id": "72f40ea8",
   "metadata": {},
   "source": [
    "## Continuous Integration"
   ]
  },
  {
   "cell_type": "markdown",
   "id": "fcafe237",
   "metadata": {},
   "source": [
    "Aut"
   ]
  }
 ],
 "metadata": {
  "kernelspec": {
   "display_name": "Python 3 (ipykernel)",
   "language": "python",
   "name": "python3"
  },
  "language_info": {
   "codemirror_mode": {
    "name": "ipython",
    "version": 3
   },
   "file_extension": ".py",
   "mimetype": "text/x-python",
   "name": "python",
   "nbconvert_exporter": "python",
   "pygments_lexer": "ipython3",
   "version": "3.9.7"
  }
 },
 "nbformat": 4,
 "nbformat_minor": 5
}
