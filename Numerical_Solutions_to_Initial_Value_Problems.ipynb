{
 "cells": [
  {
   "cell_type": "markdown",
   "id": "639b3ff6",
   "metadata": {},
   "source": [
    "# Numerical Solutions to Initial Value Problems"
   ]
  },
  {
   "cell_type": "code",
   "execution_count": 1,
   "id": "57d6a057",
   "metadata": {
    "hide_input": true
   },
   "outputs": [
    {
     "data": {
      "application/javascript": [
       "MathJax.Hub.Config({\n",
       "    TeX: { equationNumbers: { autoNumber: \"AMS\" } }\n",
       "});\n"
      ],
      "text/plain": [
       "<IPython.core.display.Javascript object>"
      ]
     },
     "metadata": {},
     "output_type": "display_data"
    }
   ],
   "source": [
    "%%javascript\n",
    "MathJax.Hub.Config({\n",
    "    TeX: { equationNumbers: { autoNumber: \"AMS\" } }\n",
    "});"
   ]
  },
  {
   "cell_type": "code",
   "execution_count": 1,
   "id": "f5b21a2c",
   "metadata": {},
   "outputs": [],
   "source": [
    "import numpy as np\n",
    "import matplotlib.pyplot as plt"
   ]
  },
  {
   "cell_type": "markdown",
   "id": "a4f9e31d",
   "metadata": {},
   "source": [
    "## Initial Value Problems\n",
    "\n",
    "In an initial value problem (IVP), we have an ordinary differential equation (ODE) involving some unknown function $\\mathbf{s}(t)$, a function of time $t$ and an initial condition specifying the value of the unknown function at some time $t_0$. (Note: IVP extend to problems beyond just time-dependent functions, but since so many problems in physics are time-depedent, it is useful to talk about them temporarily for an introduction). To make this concrete, an IVP is an ODE:\n",
    "\n",
    "\\begin{equation}\n",
    "\\dot{\\mathbf{s}}(t) = f(t, \\mathbf{s}(t))\\,,\n",
    "\\label{eqn:ode}\n",
    "\\end{equation}\n",
    "\n",
    "and some initial condition at time $t_0$:\n",
    "\n",
    "\\begin{equation}\n",
    "\\mathbf{s}(t_0) = \\mathbf{s}_0\\,.\n",
    "\\label{eqn:iv}\n",
    "\\end{equation}\n",
    "\n",
    "Note that $\\mathbf{s}(t)$ is a vector.\n",
    "\n",
    "The function $f(t, \\mathbf{s}(t))$, often referred to as the governing equation, determines the *physics* of the problem. Meanwhile, the initial conditions specifics the *specifics* of the solution we are seeking. You will see what is meant by these two statements with an example shortly.\n",
    "\n",
    "In some cases, an IVP can be solved in *closed-form* using analytic techniques (e.g., if the ODE is separable, we can rearrange and then simply integrate, using the initial conditions to find a *specific solution*). However, oftentimes, when the physics is realistic, it is often easier to turn to a computer to look for a numerical solution. In this notebook, we will explore several approaches to solving IVPs using numerical approximation (also known as numerical integration/quadrature). First, let's set up an IVP for us to solve. \n",
    "\n",
    "## Simple Projectile Motion\n",
    "\n",
    "Consider a projectile of mass $m$ fired at time $t_0=0$ with an initial speed $v_0$ an angle $\\theta$ to the horizontal $x-y$ plane (i.e. the surface of the Earth) where the force of gravity is well-modelled by\n",
    "\\begin{equation}\n",
    "\\mathbf{F} = -mg \\hat{z}\\,.\n",
    "\\end{equation}\n",
    "For simplicity, we will assume the mass is fired in the $x$-direction, such that the motion of projectile occurs entirely in the $x-z$ plane and we can neglect the $y$ coordinate throughout. Then, if $\\mathbf{r}(t)$ is the position of the mass as a function of time, Newton's second law, provides the governing equation:\n",
    "\\begin{equation}\n",
    "m \\ddot{\\mathbf{r}} = -mg \\hat{z}\\,.\n",
    "\\end{equation}\n",
    "Or, written in component form:\n",
    "\\begin{eqnarray}\n",
    "\\ddot{x} &= 0 \\\\\n",
    "\\ddot{z} &= -g\\,.\n",
    "\\end{eqnarray}\n",
    "\n",
    "These form a pair of second-order differential equations. But, they are not in the form of Equation (1). We need to get we can apply a mathematical trick. Let\n",
    "\n",
    "\\begin{equation}\n",
    "\\mathbf{s}(t) = \\left[\\begin{array}{c} x \\\\ z \\\\ \\dot{x} \\\\ \\dot{z} \\end{array}\\right]\n",
    "\\end{equation}\n",
    "\n",
    "then\n",
    "\n",
    "\\begin{equation}\n",
    "\\dot{\\mathbf{s}}(t) = \\left[\\begin{array}{c} \\dot{x} \\\\ \\dot{z} \\\\ \\ddot{x} \\\\ \\ddot{z} \\end{array}\\right] =\\left[\\begin{array}{c} \\dot{x} \\\\ \\dot{y} \\\\ 0 \\\\ -g \\end{array}\\right]\n",
    "\\end{equation}\n",
    "\n",
    "Finally, to make this an initial value problem, we also need our initial values. The initial values for the first derivative can be calculated from the information above, then we will also assume that the mass begins at coordinates $(x,z)=(0, 0)$. Hence,\n",
    "\\begin{equation}\n",
    "\\mathbf{s}(0) = \\left[\\begin{array}{c} 0 \\\\ 0 \\\\ v_0 \\cos(\\theta) \\\\ v_0\\sin(\\theta) \\end{array}\\right]\n",
    "\\end{equation}\n",
    "\n",
    "### Solving by separation of variables\n",
    "\n",
    "This problem is sufficiently easy that we can in fact solve it in closed-form using separation of variables. Since $x$ and $z$ are not coupled, we can solve them independently:\n",
    "\\begin{equation}\n",
    "\\ddot{x} = 0 \\Rightarrow x(t) = v_0 \\cos(\\theta) t\\,, \n",
    "\\end{equation}\n",
    "and\n",
    "\\begin{equation}\n",
    "\\ddot{z} = -g \\Rightarrow z(t) = v_0 \\sin(\\theta) t - \\frac{1}{2}gt^2 \\,.  \n",
    "\\end{equation}\n",
    "I.e., the regular SUVAT expressions (with the specific information for our initial value problem described above). \n",
    "\n",
    "<!---\n",
    "#### For the $x$ coordinate\n",
    "\n",
    "\\begin{equation}\n",
    "\\ddot{x} = 0 \\Rightarrow \\dot{x}(t) = \\dot{x}_0\\, \n",
    "\\end{equation}\n",
    "where $\\dot{x}_0$ is a constant. Since we are given that $\\dot{x}(0) = v_0 \\sin(\\theta)$ and $\\dot{x}(t)$ is a constant, it must also be true that $\\dot{x}(t)=v_0\\sin(\\theta)$. Hence we have an ODE\n",
    "\\begin{equation}\n",
    "\\frac{dx}{dt} = v_0 \\sin(\\theta)\n",
    "\\end{equation}\n",
    "which can be solved by separation of variables:\n",
    "$$ \\int dx = v_0 \\sin(\\theta) \\int dt $$\n",
    "$$ \\Rightarrow x(t) = v_0 \\sin(\\theta) t + x_0 $$\n",
    "then inserting our initial conditions,\n",
    "\\begin{equation}\n",
    "x(t) = v_0 \\sin(\\theta) t\n",
    "\\end{equation}\n",
    "\n",
    "\n",
    "#### For the $z$ coordinate\n",
    "\n",
    "\\begin{equation}\n",
    "\\ddot{z} = -g\n",
    "\\end{equation}\n",
    "APplying the same \n",
    "-->\n",
    "\n",
    "We will now create a function to calculate the closed-form trajectory at a specific set of times, given some values for the mass and initial velocity. "
   ]
  },
  {
   "cell_type": "code",
   "execution_count": 3,
   "id": "934a2f6b",
   "metadata": {},
   "outputs": [],
   "source": [
    "def simple_projectile_motion_closed_form(time, v0, theta, mass, little_g=9.81):\n",
    "    \"\"\" Calculates Eqn (10) and (11)\n",
    "    \n",
    "    Parameters\n",
    "    ----------\n",
    "    time: array\n",
    "        An array of times (in seconds) at which to calculate the values\n",
    "    v0: float\n",
    "        The initial speed (in m/s) of the projectile\n",
    "    theta: float\n",
    "        The initial angle (in radians) of the projectile\n",
    "    mass: float\n",
    "        The mass (in kg) of the projectile\n",
    "    little_g: float\n",
    "        The local acceleration due to gravity (in m/s^2)\n",
    "        \n",
    "    Returns\n",
    "    -------\n",
    "    x(t), z(t): arrays\n",
    "        A tuple of arrays with length equal to the input time array\n",
    "    \"\"\"\n",
    "    x_of_t = v0 * np.cos(theta) * time\n",
    "    z_of_t = v0 * np.sin(theta) * time - 0.5 * little_g * time ** 2\n",
    "    return x_of_t, z_of_t"
   ]
  },
  {
   "cell_type": "markdown",
   "id": "1ccf4a06",
   "metadata": {},
   "source": [
    "<div class=\"alert alert-block alert-info\">\n",
    "<b>Note:</b> The function defined above includes a <a href=\"https://peps.python.org/pep-0257/\"> docstring</a>. This is a string of text which helps a user understand the inputs and expected outputs. For example, you may wonder if `theta` should be given in degrees of radians, usefully, the docstring tells us. Here, we use the <a href=\"https://numpydoc.readthedocs.io/en/latest/format.html\">numpydoc </a> convention.\n",
    "</div>\n",
    "\n",
    "Let's quickly plot the projectile motion to check it all makes sense, we will label this the \"Exact solution\" for later comparison"
   ]
  },
  {
   "cell_type": "code",
   "execution_count": 4,
   "id": "189db7ad",
   "metadata": {},
   "outputs": [
    {
     "data": {
      "image/png": "[encoded data removed]",
      "text/plain": [
       "<Figure size 432x288 with 1 Axes>"
      ]
     },
     "metadata": {
      "needs_background": "light"
     },
     "output_type": "display_data"
    }
   ],
   "source": [
    "theta = 0.2\n",
    "mass = 1\n",
    "v0 = 30\n",
    "time = np.linspace(0, 1, 100)\n",
    "x_of_t, z_of_t = simple_projectile_motion_closed_form(time, v0, theta, mass)\n",
    "\n",
    "fig, ax = plt.subplots()\n",
    "ax.plot(x_of_t, z_of_t, label=\"Exact expression\")\n",
    "ax.set(xlabel=\"x [m]\", ylabel=\"y [m]\")\n",
    "ax.legend()\n",
    "plt.show()"
   ]
  },
  {
   "cell_type": "markdown",
   "id": "25c7a7d4",
   "metadata": {},
   "source": [
    "### Solving numerically\n",
    "\n",
    "While we already have a closed-form solution for the projectile motion, it nonetheless useful to look at how we can solve this problem numerically. This way, we can gain some confidence that we can obtain the correct solution (comparing with the closed-form expression).\n",
    "\n",
    "We will start by using a numerical integrator, `solve_ivp` provided by `scipy.integrate`. The full documentation for this functions can be found [here](https://docs.scipy.org/doc/scipy/reference/generated/scipy.integrate.solve_ivp.html). For now, we can treat this as a **black-box** (i.e. assume it solves the IVP without worrying about the internals, we'll get to these shortly)."
   ]
  },
  {
   "cell_type": "code",
   "execution_count": 5,
   "id": "86eb3755",
   "metadata": {},
   "outputs": [],
   "source": [
    "from scipy.integrate import solve_ivp\n",
    "\n",
    "# Define our variables\n",
    "theta = 0.2\n",
    "mass = 1\n",
    "v0 = 30\n",
    "little_g = 9.81\n",
    "\n",
    "def sdot_simple_projectile_motion(t, s):\n",
    "    \"\"\" Implementation of Eq (2) for simple projectile motion (Eq 5 and 6)\n",
    "    \n",
    "    Parameters\n",
    "    ----------\n",
    "    t: array of length N\n",
    "        The N times (in seconds) to evaluate sdot\n",
    "    s: array of length 4\n",
    "        The values of s(t) = [x, z, xdot, zdot]\n",
    "        \n",
    "    Returns\n",
    "    -------\n",
    "    sdot: array of length 4\n",
    "        The values of sdot(t) = [xdot, zdot, xddot, zddot]\n",
    "    \"\"\"\n",
    "    xdot = s[2]\n",
    "    zdot = s[3]\n",
    "    xddot = 0\n",
    "    zddot = - little_g\n",
    "    return np.array([xdot, zdot, xddot, zddot])\n",
    "\n",
    "# Calculate initial conditions\n",
    "s0 = np.array([0, 0, v0 * np.cos(theta), v0 * np.sin(theta)])\n",
    "\n",
    "# Define a tuple of the span of times to integrate over\n",
    "t_span = (0, 1)\n",
    "\n",
    "# Define a tuple of the times at which to evaluate the solution\n",
    "t_eval = np.linspace(0, 1, 100)\n",
    "\n",
    "# Run solve_ivp\n",
    "output = solve_ivp(sdot_simple_projectile_motion, t_span, s0, t_eval=t_eval)\n",
    "\n",
    "# Extract solution from solve_ivp (see documentation for details)\n",
    "x_of_t_numerical = output.y[0]\n",
    "z_of_t_numerical = output.y[1]"
   ]
  },
  {
   "cell_type": "markdown",
   "id": "9f1fba03",
   "metadata": {},
   "source": [
    "Okay, let's check then if \"solve_ivp\" solution agrees with the exact solution"
   ]
  },
  {
   "cell_type": "code",
   "execution_count": 6,
   "id": "69193ac9",
   "metadata": {},
   "outputs": [
    {
     "data": {
      "image/png": "[encoded data removed]",
      "text/plain": [
       "<Figure size 432x288 with 1 Axes>"
      ]
     },
     "metadata": {
      "needs_background": "light"
     },
     "output_type": "display_data"
    }
   ],
   "source": [
    "fig, ax = plt.subplots()\n",
    "ax.plot(x_of_t, z_of_t, label=\"Exact solution\")\n",
    "ax.plot(x_of_t_numerical, z_of_t_numerical, ls='--', label=\"solve_ivp solution\")\n",
    "ax.set(xlabel=\"x [m]\", ylabel=\"z [m]\")\n",
    "ax.legend()\n",
    "plt.show()"
   ]
  },
  {
   "cell_type": "markdown",
   "id": "19d8821f",
   "metadata": {},
   "source": [
    "## Do they agree exactly?\n",
    "\n",
    "From the plot above, it looks like the two solutions agree exactly. But, is that really the case? To check, we need to look a little closer. We can do this by plotting out the residual `r_x = x_of_t - x_of_t_numerical` and `r_z = z_of_t - z_of_t_numerical`:"
   ]
  },
  {
   "cell_type": "code",
   "execution_count": 7,
   "id": "8dfc060f",
   "metadata": {},
   "outputs": [
    {
     "data": {
      "image/png": "[encoded data removed]",
      "text/plain": [
       "<Figure size 432x288 with 2 Axes>"
      ]
     },
     "metadata": {
      "needs_background": "light"
     },
     "output_type": "display_data"
    }
   ],
   "source": [
    "fig, (ax1, ax2) = plt.subplots(nrows=2, sharex=True)\n",
    "r_x = x_of_t - x_of_t_numerical\n",
    "r_z = z_of_t - z_of_t_numerical\n",
    "ax1.plot(t_eval, r_x)\n",
    "ax2.plot(t_eval, r_z)\n",
    "ax2.set(ylabel=\"z-residual [m]\")\n",
    "ax2.set(xlabel=\"Time [s]\", ylabel=\"z-residual [m]\")\n",
    "plt.show()"
   ]
  },
  {
   "cell_type": "markdown",
   "id": "b6622831",
   "metadata": {},
   "source": [
    "We can see that there is some non-zero residual and it grows with time! A good way to quantify the total error is to calculate the \"\"mean squared error**. The general expression for the mean squared error between two vectors $\\mathbf{v}$ and $\\hat{\\mathbf{v}}$ is\n",
    "\n",
    "\\begin{equation}\n",
    "\\textrm{MSE} = \\frac{1}{N} \\sum_{i=1}^{N} (v_i - \\hat{v}_i)^2\n",
    "\\end{equation}\n",
    "\n",
    "Let's calculate this for $x$ and $z$:"
   ]
  },
  {
   "cell_type": "code",
   "execution_count": 8,
   "id": "6afec833",
   "metadata": {},
   "outputs": [
    {
     "name": "stdout",
     "output_type": "stream",
     "text": [
      "The mean-squared error in x, and z in 1.960384060720346e-29, 1.2390686964334026e-30\n"
     ]
    }
   ],
   "source": [
    "# Mean-squared error\n",
    "MSE_x = np.mean(r_x**2)\n",
    "MSE_z = np.mean(r_z**2)\n",
    "print(f\"The mean-squared error in x, and z in {MSE_x}, {MSE_z}\")"
   ]
  },
  {
   "cell_type": "markdown",
   "id": "40778315",
   "metadata": {},
   "source": [
    "Here we see that the total is small (relative say to the magnitude of $x$ and $z$)"
   ]
  },
  {
   "cell_type": "markdown",
   "id": "d84b7272",
   "metadata": {},
   "source": [
    "## Writing an IVP solver \n",
    "\n",
    "There are many different numerical methods to solve ODEs. Above, we used the [solve_ivp](https://docs.scipy.org/doc/scipy/reference/generated/scipy.integrate.solve_ivp.html) implementation from `scipy`. This is a very powerful tool which allows you access many algorithms in a uniform interface (for example, by default it uses the Runge-Kutta of order 5(4) algorithm). The development of such numerical integrators remains the subject of a lot of research with specialised methods for specific problems. \n",
    "\n",
    "We will now reveal the insides of `solve_ivp` by writing out own integrator using Euler's method, which was first published by Leonard Euler in the 1800's (you can guess that modern algorithms are quite advanced by comparison!).\n",
    "\n",
    "### Euler's Method\n",
    "\n",
    "Euler's method is the most basic *explicit* solver. Explicit means that all the calculations involved involve only calculating $f(t, s(t))$ at a later time than the current method. By comparison, *implicit* solvers involve calculations including the current time. Implicit methods involve extra computations, but are much more efficient under certain conditions.\n",
    "\n",
    "Euler's method proceed as follows:\n",
    "1. Choose a time step $h$\n",
    "2. Start at the initial conditions $s(t_0) = s_0$\n",
    "3. Set $t_1 = t_0 + h$\n",
    "4. Estimate the value at the next step by $\\tilde{s}_1 = s_0 + h f(t_0, s_0)$\n",
    "5. Repeat with $t_{n+1} = t_n + h$ and $\\tilde{s}_{n+1} = s_n + h f(t_n, s_n)$"
   ]
  },
  {
   "cell_type": "markdown",
   "id": "e92d85cf",
   "metadata": {},
   "source": [
    "## Challenges\n",
    "\n",
    "You should now go to [the week 1 challenge problems](../Numerical_Solutions_to_Initial_Value_Problems_Challenges.ipynb)."
   ]
  },
  {
   "cell_type": "code",
   "execution_count": null,
   "id": "8883cab7",
   "metadata": {},
   "outputs": [],
   "source": []
  }
 ],
 "metadata": {
  "celltoolbar": "Edit Metadata",
  "kernelspec": {
   "display_name": "Python 3 (ipykernel)",
   "language": "python",
   "name": "python3"
  },
  "language_info": {
   "codemirror_mode": {
    "name": "ipython",
    "version": 3
   },
   "file_extension": ".py",
   "mimetype": "text/x-python",
   "name": "python",
   "nbconvert_exporter": "python",
   "pygments_lexer": "ipython3",
   "version": "3.9.7"
  }
 },
 "nbformat": 4,
 "nbformat_minor": 5
}
