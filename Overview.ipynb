{
 "cells": [
  {
   "cell_type": "markdown",
   "id": "17b64465",
   "metadata": {},
   "source": [
    "# Advanced methods in Python and software development\n",
    "\n",
    "In this module, you will learn advanced methods in python. The ultimate goal will be to write a software package which enables users to solve the Time-Dependent Schrödinger Equation for an arbitrary potential. You will do this in a team, using open-source collaboration tools on `GitHub`, and packaging your software so that others can use it. While the content of this module is inextricably physics, you will be assesed on five key skills:\n",
    "\n",
    "1. The quality of the software you deliver\n",
    "2. The use of collaborative working tools\n",
    "3. The application of standardized software development practises (which you will be taught)\n",
    "4. The development of integrated testing and documentation into your software\n",
    "5. The extension of the basic module\n",
    "\n",
    "You may ask, why are these skills important? Let's discuss.\n",
    "\n",
    "The days of the lone-programmer silently tapping away in her basement to develop software are gone. Nowadays, across all areas of Physics, data science, education, finance, etc, software is developed by teams of people. It is likelu that in your future career you may be such a person. The soft you write might be finding new particles at the LHC, measuring the impact of climate change on our World, helping customers to purchase a better car, or pricing options for a bank. But whatever it does, you will no doubt want it to do the job well! However, working in a large team is difficult. Your colleagues may be distributed across the globe, in many timezones, and all working on the same peice of software. \n",
    "\n",
    "Gone are the days where you might email the \"code\" to your colleague and then wait for them to add their bits before running it. We need to be able to develop code together in a distributed fashion. We also want that code to meet certain quality requirements. And, when someone changes the code, it shouldn't break everything! The means to meet these requirements have largely been solved by the open-source community. Millions of people worldwide write code together collaboratively. Often, they have never met and might not even speak the same language. In this module, you will get a taster for how this is done in practice. \n",
    "\n"
   ]
  },
  {
   "cell_type": "markdown",
   "id": "c69996fb",
   "metadata": {},
   "source": [
    "## Week 1\n",
    "* [Getting started with git](./Getting_started_with_git.ipynb)\n",
    "* [Numerical Solutions to Initial Value Problems](./Numerical_Solutions_to_Initial_Value_Problems.ipynb)\n",
    "* [Week 1 challenge questions]\n",
    "\n",
    "## Week 2\n",
    "* [Advanced Python]\n",
    "* [Solving Schroedinger's Equation]"
   ]
  },
  {
   "cell_type": "code",
   "execution_count": null,
   "id": "db8ed307",
   "metadata": {},
   "outputs": [],
   "source": []
  }
 ],
 "metadata": {
  "kernelspec": {
   "display_name": "Python 3 (ipykernel)",
   "language": "python",
   "name": "python3"
  },
  "language_info": {
   "codemirror_mode": {
    "name": "ipython",
    "version": 3
   },
   "file_extension": ".py",
   "mimetype": "text/x-python",
   "name": "python",
   "nbconvert_exporter": "python",
   "pygments_lexer": "ipython3",
   "version": "3.9.7"
  }
 },
 "nbformat": 4,
 "nbformat_minor": 5
}
