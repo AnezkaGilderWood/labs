{
 "cells": [
  {
   "cell_type": "code",
   "execution_count": 1,
   "id": "4c13abc2",
   "metadata": {},
   "outputs": [],
   "source": [
    "import numpy as np\n",
    "import matplotlib.pyplot as plt"
   ]
  },
  {
   "cell_type": "markdown",
   "id": "569dfda2",
   "metadata": {},
   "source": [
    "# Advanced Python\n",
    "\n",
    "In this notebook, we refresh some of the ideas you have seen before and perhaps introduce some new ones.\n",
    "\n",
    "Please read over this notebook. You should run each code cell to see the output. When there are challenges, you can produce a solution in the code cell directly below."
   ]
  },
  {
   "cell_type": "markdown",
   "id": "14da6dfa",
   "metadata": {},
   "source": [
    "## Strings"
   ]
  },
  {
   "cell_type": "markdown",
   "id": "e25e75d9",
   "metadata": {},
   "source": [
    "Okay, you have seen strings before, but in this course we'll use f-strings. If we want to print a message with a value, we can do that using Python3's f-strings:"
   ]
  },
  {
   "cell_type": "code",
   "execution_count": null,
   "id": "88841239",
   "metadata": {},
   "outputs": [],
   "source": [
    "pi = 3.14159265359\n",
    "print(f\"pi is equal to {pi}\")"
   ]
  },
  {
   "cell_type": "markdown",
   "id": "01518836",
   "metadata": {},
   "source": [
    "Note the `f` in front of the string - this makes it an f-string. You can also define a format, say you wanted to only print 2 decimal places"
   ]
  },
  {
   "cell_type": "code",
   "execution_count": null,
   "id": "6a51ea58",
   "metadata": {},
   "outputs": [],
   "source": [
    "print(f\"pi is equal to {pi:0.2f}\")"
   ]
  },
  {
   "cell_type": "markdown",
   "id": "2ce7be1b",
   "metadata": {},
   "source": [
    "Or, if you have a big number and you want to use exponent notation"
   ]
  },
  {
   "cell_type": "code",
   "execution_count": 1,
   "id": "7ea748ea",
   "metadata": {},
   "outputs": [
    {
     "name": "stdout",
     "output_type": "stream",
     "text": [
      "My big number is 1.895e+13\n"
     ]
    }
   ],
   "source": [
    "big_number = 18947598428945.945\n",
    "print(f\"My big number is {big_number:0.4g}\")"
   ]
  },
  {
   "cell_type": "markdown",
   "id": "4afd1a98",
   "metadata": {},
   "source": [
    "You can learn more about these formats in the [documentation](https://docs.python.org/3/library/string.html#formatspec). \n",
    "\n",
    "<div class=\"alert alert-block alert-danger\">\n",
    "<b>Challenge 1.1:</b> Use f-strings and the \"Scientific notation\" discussed in the documentation above to print the value of the gravitational constant in SI: $6.67430\\times10^{-11}$ N/m$^2$/kg$^2$\" to 3 significant figures.\n",
    "</div>"
   ]
  },
  {
   "cell_type": "code",
   "execution_count": 11,
   "id": "824ef4e7",
   "metadata": {},
   "outputs": [
    {
     "name": "stdout",
     "output_type": "stream",
     "text": [
      "gravitational constant is  6.67e-11, [N/m^2/kg^2]\n"
     ]
    }
   ],
   "source": [
    "number = 6.67430*(10**(-11))\n",
    "print(f\"gravitational constant is {number: 0.3g}, [N/m^2/kg^2]\")"
   ]
  },
  {
   "cell_type": "markdown",
   "id": "c0365c24",
   "metadata": {},
   "source": [
    "## Functions and Errors\n",
    "\n",
    "This is a function:"
   ]
  },
  {
   "cell_type": "code",
   "execution_count": null,
   "id": "c4f07f0f",
   "metadata": {},
   "outputs": [],
   "source": [
    "def my_function(x):\n",
    "    return x.split(\"@\")[0]"
   ]
  },
  {
   "cell_type": "markdown",
   "id": "0986c498",
   "metadata": {},
   "source": [
    "This is a function. But it is a badly written function. As a user, I have no idea what it does, what the inputs are, or what it should return! Let's fix that by adding a `docstring`:"
   ]
  },
  {
   "cell_type": "code",
   "execution_count": null,
   "id": "b12c0815",
   "metadata": {},
   "outputs": [],
   "source": [
    "def get_username(email_address):\n",
    "    \"\"\" Returns the username from an email address\n",
    "     \n",
    "    Parameters\n",
    "    ----------\n",
    "    email_address: string\n",
    "        The users email address, e.g. user123@rhul.ac.uk\n",
    "        \n",
    "    Returns\n",
    "    -------\n",
    "    username: str\n",
    "        The users username\n",
    "        \n",
    "    Examples\n",
    "    --------\n",
    "    >>> get_username(\"user123@rhul.ac.uk\")\n",
    "    \"user123\"\n",
    "    \n",
    "    \"\"\"\n",
    "    return email_address.split(\"@\")[0]"
   ]
  },
  {
   "cell_type": "markdown",
   "id": "9e4e32e8",
   "metadata": {},
   "source": [
    "Okay, that is better, I changed the function name and added a docstring which tells me what to do with the function (even giving a nice example!). Here, we use the [numpydoc](https://numpydoc.readthedocs.io/en/latest/format.html) format.\n",
    "\n",
    "But, the program itself is still a bit weird. What happens if the user gives it a `float` instead?"
   ]
  },
  {
   "cell_type": "code",
   "execution_count": null,
   "id": "1002fcf9",
   "metadata": {},
   "outputs": [],
   "source": [
    "get_username(123)"
   ]
  },
  {
   "cell_type": "markdown",
   "id": "a7508de8",
   "metadata": {},
   "source": [
    "Oh, that isn't very useful. Let's improve things by telling the user when they do it wrong"
   ]
  },
  {
   "cell_type": "code",
   "execution_count": null,
   "id": "1fd056c3",
   "metadata": {},
   "outputs": [],
   "source": [
    "def get_username(email_address):\n",
    "    \"\"\" Returns the username from an email address\n",
    "     \n",
    "    Parameters\n",
    "    ----------\n",
    "    email_address: string\n",
    "        The users email address, e.g. user123@rhul.ac.uk\n",
    "        \n",
    "    Returns\n",
    "    -------\n",
    "    username: str\n",
    "        The users username\n",
    "        \n",
    "    Examples\n",
    "    --------\n",
    "    >>> get_username(\"user123@rhul.ac.uk\")\n",
    "    \"user123\"\n",
    "    \n",
    "    \"\"\"\n",
    "    if isinstance(email_address, str) and \"@\" in email_address:\n",
    "        return email_address.split(\"@\")[0]\n",
    "    else:\n",
    "        raise ValueError(f\"The input {email_address} is not a valid email address\")"
   ]
  },
  {
   "cell_type": "markdown",
   "id": "feec9481",
   "metadata": {},
   "source": [
    "Okay, let's check that works as expected"
   ]
  },
  {
   "cell_type": "code",
   "execution_count": null,
   "id": "fed51c54",
   "metadata": {},
   "outputs": [],
   "source": [
    "get_username(\"user123@rhul.ac.uk\")"
   ]
  },
  {
   "cell_type": "code",
   "execution_count": null,
   "id": "261dda34",
   "metadata": {},
   "outputs": [],
   "source": [
    "get_username(123)"
   ]
  },
  {
   "cell_type": "markdown",
   "id": "2e669992",
   "metadata": {},
   "source": [
    "Okay, that is much better. \n",
    "\n",
    "<div class=\"alert alert-block alert-danger\">\n",
    "<b>Challenge 1.2:</b> Write a function which accepts as input a number and returns a string formatted to 2 decimal places. If the magnitude of the number is greater than $10^3$ or less than $10^{-3}$, it should use scientific notation and give 2 significant figures.\n",
    "</div>"
   ]
  },
  {
   "cell_type": "code",
   "execution_count": 14,
   "id": "fb1220a5",
   "metadata": {},
   "outputs": [
    {
     "name": "stdout",
     "output_type": "stream",
     "text": [
      "what number? 49092.82648\n",
      " 4.9e+04\n"
     ]
    },
    {
     "data": {
      "text/plain": [
       "49092.82648"
      ]
     },
     "execution_count": 14,
     "metadata": {},
     "output_type": "execute_result"
    }
   ],
   "source": [
    "# Solution to challenge 1.2\n",
    "def number (value):\n",
    "    if value > 1000 or value < 0.001:\n",
    "        print (f'{value : 0.2g}')\n",
    "    else:\n",
    "        print (f'{value: 0.2f}')\n",
    "    return (value)\n",
    "value = float(input ('what number? '))\n",
    "number (value)"
   ]
  },
  {
   "cell_type": "markdown",
   "id": "5a57ceca",
   "metadata": {},
   "source": [
    "Docstrings come in very handy when we are using a package. For example, let's say I want to know how to use the `numpy` function `sin()`. I can run the commands"
   ]
  },
  {
   "cell_type": "code",
   "execution_count": null,
   "id": "0aa0302f",
   "metadata": {},
   "outputs": [],
   "source": [
    "import numpy as np\n",
    "help(np.sin)"
   ]
  },
  {
   "cell_type": "markdown",
   "id": "f5195952",
   "metadata": {},
   "source": [
    "If I am using `IPython` or `Jupyter` notebooks, I can get the same information by adding a question mark to the end of the function, e.g. \n",
    "```\n",
    "[1] np.sin?\n",
    "```\n",
    "\n",
    "You can also use two question marks to look up the source code as well.\n",
    "\n",
    "<div class=\"alert alert-block alert-danger\">\n",
    "<b>Challenge 1.3:</b> Look up the help function for `matplotlib.pyplot.scatter` and create a scatter plot of three points, each of a different colour.\n",
    "</div>"
   ]
  },
  {
   "cell_type": "code",
   "execution_count": 2,
   "id": "1e53b505",
   "metadata": {},
   "outputs": [
    {
     "data": {
      "image/png": "[encoded data removed]",
      "text/plain": [
       "<Figure size 432x288 with 1 Axes>"
      ]
     },
     "metadata": {
      "needs_background": "light"
     },
     "output_type": "display_data"
    }
   ],
   "source": [
    "import numpy as np\n",
    "import matplotlib.pyplot as plt\n",
    "#help(matplotlib.pyplot.scatter)\n",
    "\n",
    "plt.scatter(3,2, color= \"red\")\n",
    "plt.scatter(6,4, color = \"blue\")\n",
    "plt.scatter(9,6, color = \"green\")\n",
    "plt.show()"
   ]
  },
  {
   "cell_type": "markdown",
   "id": "bd971a18",
   "metadata": {},
   "source": [
    "## Classes (basic)\n",
    "\n",
    "Classes are a powerful way way to tie together data, and methods which act on that data. They also enable *inheritance*: the idea that we can build classes from other classes, inheriting there methods. Let's look at some examples to understand the basics.\n",
    "\n",
    "### Data\n",
    "\n",
    "Here we construct a class that defines a square with fixed side length"
   ]
  },
  {
   "cell_type": "code",
   "execution_count": null,
   "id": "398e4492",
   "metadata": {},
   "outputs": [],
   "source": [
    "class FixedSideLengthSquare(object):\n",
    "    side_length = 4"
   ]
  },
  {
   "cell_type": "markdown",
   "id": "8be9f32f",
   "metadata": {},
   "source": [
    "We can create an instance of the square like this"
   ]
  },
  {
   "cell_type": "code",
   "execution_count": null,
   "id": "3fef3948",
   "metadata": {},
   "outputs": [],
   "source": [
    "square = FixedSideLengthSquare()"
   ]
  },
  {
   "cell_type": "markdown",
   "id": "d214ee53",
   "metadata": {},
   "source": [
    "And access it's properties using the \".\" notation"
   ]
  },
  {
   "cell_type": "code",
   "execution_count": null,
   "id": "36210073",
   "metadata": {},
   "outputs": [],
   "source": [
    "square.side_length"
   ]
  },
  {
   "cell_type": "markdown",
   "id": "0ead045a",
   "metadata": {},
   "source": [
    "<div class=\"alert alert-block alert-info\">\n",
    "<b>Note:</b> To help when reading the software, we name classes using pascal case naming (no spaces, each word capitalized, e.g. FixedSideLengthSquare), but we name instances in lower case.\n",
    "</div>"
   ]
  },
  {
   "cell_type": "markdown",
   "id": "ac8c42e4",
   "metadata": {},
   "source": [
    "### Methods\n",
    "\n",
    "Classes can have *methods*. These are functions tied to the class. For example, here we add a method `area` to the `FixedSideLengthSquare` class:"
   ]
  },
  {
   "cell_type": "code",
   "execution_count": null,
   "id": "c3f168f7",
   "metadata": {},
   "outputs": [],
   "source": [
    "class FixedSideLengthSquare(object):\n",
    "    side_length = 4\n",
    "    \n",
    "    def calculate_area(self):\n",
    "        area = self.side_length * self.side_length\n",
    "        return area\n",
    "        \n",
    "square = FixedSideLengthSquare()\n",
    "print(square.calculate_area())"
   ]
  },
  {
   "cell_type": "markdown",
   "id": "0b0e67d5",
   "metadata": {},
   "source": [
    "Note that all methods start with `self`. This is so they can access the data inside of themselves. But, you don't need to pass `self` when you call the method."
   ]
  },
  {
   "cell_type": "markdown",
   "id": "1a45a8a3",
   "metadata": {},
   "source": [
    "### Initialization\n",
    "\n",
    "Often, we want to pass data in to our class. This requires an `__init__` method. For example, let's make the side-length a user input:"
   ]
  },
  {
   "cell_type": "code",
   "execution_count": null,
   "id": "c721dc7a",
   "metadata": {},
   "outputs": [],
   "source": [
    "class VariableSideLengthSquare(object):\n",
    "    def __init__(self, side_length):\n",
    "        self.side_length = side_length\n",
    "    \n",
    "    def calculate_area(self):\n",
    "        area = self.side_length * self.side_length\n",
    "        return area\n",
    "    \n",
    "square = VariableSideLengthSquare(5)\n",
    "print(square.calculate_area())"
   ]
  },
  {
   "cell_type": "markdown",
   "id": "fde25c4f",
   "metadata": {},
   "source": [
    "## Data\n",
    "\n",
    "In computational physics, we frequently need to store data. This might be the output of a simulation, or  data from a telescope/collider. Inside of a `python` program, it is often a good idea to collect data into a class. For example, let's say we have a time series of data recorded from a voltmeter, we could store it in a class like this"
   ]
  },
  {
   "cell_type": "code",
   "execution_count": 2,
   "id": "1e362e04",
   "metadata": {},
   "outputs": [
    {
     "name": "stdout",
     "output_type": "stream",
     "text": [
      "x-label:time\n",
      "y-label:data\n",
      "0.8414709848078965\n"
     ]
    },
    {
     "data": {
      "image/png": "[encoded data removed]",
      "text/plain": [
       "<Figure size 432x288 with 1 Axes>"
      ]
     },
     "metadata": {
      "needs_background": "light"
     },
     "output_type": "display_data"
    }
   ],
   "source": [
    "class VoltageTimeSeries(object):\n",
    "    def __init__(self, times, data):\n",
    "        \"\"\" An object to store data \n",
    "        \n",
    "        Parameters\n",
    "        ----------\n",
    "        times: array\n",
    "            The array of times in seconds\n",
    "        data: array\n",
    "            The array of recorded voltages in Volts\n",
    "        \"\"\"\n",
    "        self.times = times\n",
    "        self.data = data\n",
    "        \n",
    "    def maximum_voltage(self):\n",
    "        \"\"\" Print the maximum voltage \"\"\"\n",
    "        print(np.max(self.data))\n",
    "        \n",
    "    def plot (self, times, data, xlabel, ylabel):\n",
    "        plt.scatter(times, data)\n",
    "        plt.xlabel(xlabel)\n",
    "        plt.ylabel(ylabel)\n",
    "        plt.plot()\n",
    "        \n",
    "        \n",
    "x = np.linspace(0, 1, 5)\n",
    "y = np.sin(x)\n",
    "xlabel = input(\"x-label:\")\n",
    "ylabel = input(\"y-label:\")\n",
    "timeseries = VoltageTimeSeries(x, y)\n",
    "timeseries.maximum_voltage()\n",
    "timeseries.plot(x,y, xlabel, ylabel)"
   ]
  },
  {
   "cell_type": "markdown",
   "id": "b4f4a5c0",
   "metadata": {},
   "source": [
    "The `TimeSeries` class stores the *data* : `times` and `data` and has a *method*: `maximum_voltage()` that can be called to print the maximum voltage."
   ]
  },
  {
   "cell_type": "markdown",
   "id": "5a445cd7",
   "metadata": {},
   "source": [
    "<div class=\"alert alert-block alert-danger\">\n",
    "<b>Challenge 1.4:</b> Add `plot` method to the TimeSeries class which plots the data. Your method should add axis labels which can be set by the user or have default values.\n",
    "</div>"
   ]
  },
  {
   "cell_type": "code",
   "execution_count": null,
   "id": "c45ddd82",
   "metadata": {},
   "outputs": [],
   "source": []
  },
  {
   "cell_type": "markdown",
   "id": "31b1db95",
   "metadata": {},
   "source": [
    "## Storing and Reading Data\n",
    "\n",
    "Now, you may want to store the times series data to disk for later analysis, or perhaps to publish it. There are many ways to do this. You should choose the best method for the problem. Here we give a quick overview of some common read/write formats, implemented as functions which accept a `TimeSeries` instance.\n",
    "\n",
    "### Comma-separated-files (CSV)\n",
    "\n",
    "A very common format is that of CSV files. For our example below, each row stores one time and one voltage and the two are separated by a comma. We store these to disc by using the `print()` command with the optional argument `file`, this writes the file."
   ]
  },
  {
   "cell_type": "code",
   "execution_count": null,
   "id": "de41b402",
   "metadata": {},
   "outputs": [],
   "source": [
    "def use_print_to_write_a_csv(timeseries, filename):\n",
    "    # Open the file for writing (w+)\n",
    "    with open(filename, \"w+\") as file: \n",
    "        # Add a header to the file so people know what each column is\n",
    "        print(f\"#time[s],voltage[V]\", file=file)\n",
    "        \n",
    "        # Loop over the rows and print them to the file\n",
    "        for t, d in zip(timeseries.times, timeseries.data):\n",
    "            print(f\"{t},{d}\", file=file)\n",
    "        \n",
    "use_print_to_write_a_csv(timeseries, \"use_print_to_write_a_csv_example.csv\")"
   ]
  },
  {
   "cell_type": "markdown",
   "id": "7cd29cd5",
   "metadata": {},
   "source": [
    "Okay, let's have a look at what the file looks like (the `cat` command is a UNIX command to print the contents of a file)"
   ]
  },
  {
   "cell_type": "code",
   "execution_count": null,
   "id": "d104f15f",
   "metadata": {},
   "outputs": [],
   "source": [
    "! cat use_print_to_write_a_csv_example.csv"
   ]
  },
  {
   "cell_type": "markdown",
   "id": "961fc7b6",
   "metadata": {},
   "source": [
    "Now, we can read that data back by opening the file, looping over the elements, and converting them:"
   ]
  },
  {
   "cell_type": "code",
   "execution_count": null,
   "id": "c51df52a",
   "metadata": {},
   "outputs": [],
   "source": [
    "times = []\n",
    "voltages = []\n",
    "with open(\"use_print_to_write_a_csv_example.csv\", \"r\") as file:\n",
    "    for line in file:\n",
    "        if line[0] == \"#\":\n",
    "            pass\n",
    "        else:\n",
    "            t, v = line.split(',')\n",
    "            times.append(float(t))\n",
    "            voltages.append(float(v))"
   ]
  },
  {
   "cell_type": "markdown",
   "id": "c86eb10f",
   "metadata": {},
   "source": [
    "But, this is a lot of code for a simple program! Fortunately, many packages provide a nice means to read in files. We can use the `numpy` function [genfromtxt](https://numpy.org/doc/stable/reference/generated/numpy.genfromtxt.html). This is a very powerful module. Here we give it the filename, the \"delimiter\" (a comma). Then, we transpose it (the `.T` bit) to get two columns:"
   ]
  },
  {
   "cell_type": "code",
   "execution_count": null,
   "id": "626bfa21",
   "metadata": {},
   "outputs": [],
   "source": [
    "time, voltage = np.genfromtxt(\"use_print_to_write_a_csv_example.csv\", delimiter=\",\").T"
   ]
  },
  {
   "cell_type": "markdown",
   "id": "d18f812d",
   "metadata": {},
   "source": [
    "In fact, `numpy` also "
   ]
  },
  {
   "cell_type": "code",
   "execution_count": null,
   "id": "9b17e380",
   "metadata": {},
   "outputs": [],
   "source": [
    "X = np.array([timeseries.times, timeseries.data]).T\n",
    "np.savetxt(\"use_numpy_to_write_a_csv_example.csv\", X, header=\"time[s],voltages[V]\", delimiter=\",\")"
   ]
  },
  {
   "cell_type": "code",
   "execution_count": null,
   "id": "e0d20bfb",
   "metadata": {},
   "outputs": [],
   "source": [
    "! cat use_numpy_to_write_a_csv_example.csv"
   ]
  },
  {
   "cell_type": "markdown",
   "id": "02eeb287",
   "metadata": {},
   "source": [
    "<div class=\"alert alert-block alert-danger\">\n",
    "<b>Challenge 1.5:</b> Add `save_data` method to the TimeSeries class which writes the data to a csv file. Your method take as input the filename to use.\n",
    "</div>"
   ]
  },
  {
   "cell_type": "code",
   "execution_count": null,
   "id": "3acb0133",
   "metadata": {},
   "outputs": [],
   "source": []
  },
  {
   "cell_type": "markdown",
   "id": "f0a73e74",
   "metadata": {},
   "source": [
    "### Binary files\n",
    "\n",
    "Comma-separated files (and by analogy, space-separated files) are great ways to store data because anyone can read/write them (E.g., you can open your CSV files in Excel). But, if you have several GBs of data, they are very wasteful. To this end, there are alternative ways to save data. One of them is the numpy `.npy` fileformat which works like this"
   ]
  },
  {
   "cell_type": "code",
   "execution_count": null,
   "id": "b09d4010",
   "metadata": {},
   "outputs": [],
   "source": [
    "X = np.array([timeseries.times, timeseries.data])\n",
    "np.save(\"use_numpy_to_write_a_npy_example.npy\", X)\n",
    "X_loaded = np.load(\"use_numpy_to_write_a_npy_example.npy\")\n",
    "\n",
    "# Check they are identical\n",
    "X == X_loaded"
   ]
  },
  {
   "cell_type": "markdown",
   "id": "390d2880",
   "metadata": {},
   "source": [
    "<div class=\"alert alert-block alert-danger\">\n",
    "<b>Challenge 1.6:</b> Add an optional argument \"format\" to your \"TimeSeries.save_data\" method. If the user gives \"format\" as \"csv\"`, it should write a csv. If instead they give \"format\" as \"npy\" it should write a binary file.\n",
    "</div>"
   ]
  },
  {
   "cell_type": "code",
   "execution_count": null,
   "id": "f762b6bd",
   "metadata": {},
   "outputs": [],
   "source": []
  },
  {
   "cell_type": "markdown",
   "id": "294ce112",
   "metadata": {},
   "source": [
    "## User input\n",
    "\n",
    "Most programs need some level of user input. This could be to tell the program where to store the data, set the free parameters of the simulation, or even some optional arguments to change the simulation. As a concrete example, here is a python program using the beautifulsoup module to scrape the BBC's on this day archive site:"
   ]
  },
  {
   "cell_type": "code",
   "execution_count": null,
   "id": "a93795ed",
   "metadata": {},
   "outputs": [],
   "source": [
    "%%writefile on_this_day_script.py\n",
    "\n",
    "import requests\n",
    "from bs4 import BeautifulSoup as bs\n",
    "\n",
    "def get_bbc_on_this_day_headline(month, day):\n",
    "    url = f\"http://news.bbc.co.uk/onthisday/hi/dates/stories/{month}/{day}/default.stm\"\n",
    "    article = requests.get(url)\n",
    "    soup = bs(article.content, \"html.parser\")\n",
    "    print(\"Headlines at the BBC today:\")\n",
    "    print(soup.body.find(class_=\"h1\").text)\n",
    "    \n",
    "get_bbc_on_this_day_headline(\"february\", 20)"
   ]
  },
  {
   "cell_type": "code",
   "execution_count": null,
   "id": "4503ea7b",
   "metadata": {},
   "outputs": [],
   "source": [
    "! python on_this_day_script.py"
   ]
  },
  {
   "cell_type": "markdown",
   "id": "af8bca0f",
   "metadata": {},
   "source": [
    "But, the user may want to set the date themselves!\n",
    "\n",
    "As with all things in python, there are many ways a user can provide these inputs (you could even program a website where they go an enter details!). Here we will discuss two.\n",
    "\n",
    "### Command-line interface\n",
    "\n",
    "Perhaps most frequently, your user may be running the program via a script in a terminal. Lets' modify the on this day script so the user can specify the month and day:"
   ]
  },
  {
   "cell_type": "code",
   "execution_count": null,
   "id": "528926eb",
   "metadata": {},
   "outputs": [],
   "source": [
    "%%writefile on_this_day_script.py\n",
    "\n",
    "import argparse\n",
    "\n",
    "import requests\n",
    "from bs4 import BeautifulSoup as bs\n",
    "\n",
    "def get_bbc_on_this_day_headline(month, day, print_URL=False):\n",
    "    url = f\"http://news.bbc.co.uk/onthisday/hi/dates/stories/{month}/{day}/default.stm\"\n",
    "    article = requests.get(url)\n",
    "    soup = bs(article.content, \"html.parser\")\n",
    "    print(\"Headlines at the BBC today:\")\n",
    "    print(soup.body.find(class_=\"h1\").text)\n",
    "    if print_URL:\n",
    "        print(f\"Find more information at: {url}\")\n",
    "    \n",
    "\n",
    "def get_args():\n",
    "    parser = argparse.ArgumentParser()\n",
    "    parser.add_argument(\"--month\", type=str, help=\"The month, given without abbreviation\", required=True)\n",
    "    parser.add_argument(\"--day\", type=str, help=\"The day of the month, given as a numerical value\", required=True)\n",
    "    parser.add_argument(\"--print-URL\",  action=\"store_true\", help=\"If given, also print the URL so the user can follow the link\")\n",
    "    args = parser.parse_args()\n",
    "    return args\n",
    "    \n",
    "    \n",
    "# This line tells python to run the command if it is being called from the command line\n",
    "if __name__ == \"__main__\":\n",
    "    args = get_args()\n",
    "    get_bbc_on_this_day_headline(month=args.month, day=args.day, print_URL=args.print_URL)"
   ]
  },
  {
   "cell_type": "code",
   "execution_count": null,
   "id": "51826722",
   "metadata": {},
   "outputs": [],
   "source": [
    "! python on_this_day_script.py --month december --day 28 --print-URL"
   ]
  },
  {
   "cell_type": "markdown",
   "id": "3fbbbcd0",
   "metadata": {},
   "source": [
    "You may notice that there are required arguments and optional arguments (the `print-URL`). The line `__name__ == \"__main__\"` is arguably one of the uglier parts of python, you can read more about it [here](https://docs.python.org/3/library/__main__.html) and we'll see why it is useful in Notebook 3.\n",
    "\n",
    "The command line interface enables the user to ask for help with the program"
   ]
  },
  {
   "cell_type": "code",
   "execution_count": null,
   "id": "9230cf87",
   "metadata": {},
   "outputs": [],
   "source": [
    "! python on_this_day_script.py --help"
   ]
  },
  {
   "cell_type": "markdown",
   "id": "1cf4b1cc",
   "metadata": {},
   "source": [
    "<div class=\"alert alert-block alert-danger\">\n",
    "<b>Challenge 1.7:</b> Write a script with a command-line interface. The script should generate a random password for the user. The user should be able to set the length of the password (required) and if it should include upper-case letters (optional). There is a hint below.\n",
    "</div>"
   ]
  },
  {
   "cell_type": "code",
   "execution_count": null,
   "id": "943aa31e",
   "metadata": {},
   "outputs": [],
   "source": []
  },
  {
   "cell_type": "markdown",
   "id": "f8440bd4",
   "metadata": {},
   "source": [
    "*Hint*: We can convert an integer to letter of the alphabet with"
   ]
  },
  {
   "cell_type": "code",
   "execution_count": null,
   "id": "eeac3716",
   "metadata": {},
   "outputs": [],
   "source": [
    "import string\n",
    "\n",
    "N = 10\n",
    "print(f\"The {N}th letter of the alphabet is {string.ascii_lowercase[N]}\")"
   ]
  },
  {
   "cell_type": "markdown",
   "id": "b9f29582",
   "metadata": {},
   "source": [
    "*Hint*: We can convert a letter to uppercase with"
   ]
  },
  {
   "cell_type": "code",
   "execution_count": null,
   "id": "bbb9b7b0",
   "metadata": {},
   "outputs": [],
   "source": [
    "letter = \"s\"\n",
    "letter.upper()"
   ]
  },
  {
   "cell_type": "markdown",
   "id": "2d77c85d",
   "metadata": {},
   "source": [
    "*Hint:* We can generate random numbers with"
   ]
  },
  {
   "cell_type": "code",
   "execution_count": null,
   "id": "21bcf23b",
   "metadata": {},
   "outputs": [],
   "source": [
    "import random\n",
    "random.randint(0, 25)"
   ]
  }
 ],
 "metadata": {
  "kernelspec": {
   "display_name": "Python 3",
   "language": "python",
   "name": "python3"
  },
  "language_info": {
   "codemirror_mode": {
    "name": "ipython",
    "version": 3
   },
   "file_extension": ".py",
   "mimetype": "text/x-python",
   "name": "python",
   "nbconvert_exporter": "python",
   "pygments_lexer": "ipython3",
   "version": "3.8.8"
  }
 },
 "nbformat": 4,
 "nbformat_minor": 5
}
