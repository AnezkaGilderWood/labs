{
 "cells": [
  {
   "cell_type": "markdown",
   "id": "af9af090",
   "metadata": {},
   "source": [
    "# Numerical Solutions to Initial Value Problems: Solution to Challenges"
   ]
  },
  {
   "cell_type": "code",
   "execution_count": 11,
   "id": "6c1ccad5",
   "metadata": {},
   "outputs": [],
   "source": [
    "import numpy as np\n",
    "import matplotlib.pyplot as plt\n",
    "\n",
    "def simple_projectile_motion_closed_form(time, v0, theta, mass, little_g=9.81):\n",
    "    \"\"\" Calculates Eqn (10) and (11)\n",
    "    \n",
    "    Parameters\n",
    "    ----------\n",
    "    time: array\n",
    "        An array of times (in seconds) at which to calculate the values\n",
    "    v0: float\n",
    "        The initial speed (in m/s) of the projectile\n",
    "    theta: float\n",
    "        The initial angle (in radians) of the projectile\n",
    "    mass: float\n",
    "        The mass (in kg) of the projectile\n",
    "    little_g: float\n",
    "        The local acceleration due to gravity (in m/s^2)\n",
    "        \n",
    "    Returns\n",
    "    -------\n",
    "    x(t), z(t): arrays\n",
    "        A tuple of arrays with length equal to the input time array\n",
    "    \"\"\"\n",
    "    x_of_t = v0 * np.cos(theta) * time\n",
    "    z_of_t = v0 * np.sin(theta) * time - 0.5 * little_g * time ** 2\n",
    "    return x_of_t, z_of_t\n",
    "\n",
    "\n",
    "def sdot_simple_projectile_motion(t, s):\n",
    "    \"\"\" Implementation of Eq (2) for simple projectile motion (Eq 5 and 6)\n",
    "    \n",
    "    Parameters\n",
    "    ----------\n",
    "    t: array of length N\n",
    "        The N times (in seconds) to evaluate sdot\n",
    "    s: array of length 4\n",
    "        The values of s(t) = [x, z, xdot, zdot]\n",
    "        \n",
    "    Returns\n",
    "    -------\n",
    "    sdot: array of length 4\n",
    "        The values of sdot(t) = [xdot, zdot, xddot, zddot]\n",
    "    \"\"\"\n",
    "    xdot = s[2]\n",
    "    zdot = s[3]\n",
    "    xddot = 0\n",
    "    zddot = - little_g\n",
    "    return np.array([xdot, zdot, xddot, zddot])"
   ]
  },
  {
   "cell_type": "markdown",
   "id": "a0100a68",
   "metadata": {},
   "source": [
    "<div class=\"alert alert-block alert-danger\">\n",
    "<b>Challenge 1:</b> Implement Euler's method as described above, a template function is given below which you should use. \n",
    "</div>"
   ]
  },
  {
   "cell_type": "code",
   "execution_count": 12,
   "id": "fa583040",
   "metadata": {},
   "outputs": [],
   "source": [
    "def eulers_method(t0, s0, sdot, h, stopping_time):\n",
    "    \"\"\" Implementation of Euler's method\n",
    "    \n",
    "    Parameters\n",
    "    ----------\n",
    "    t0: float\n",
    "        The initial time in seconds\n",
    "    s0: array of length 4\n",
    "        The initial position s(t_0) = [x_0, z_0, xdot_0, zdot_0]\n",
    "    sdot: function\n",
    "        A function with the same input/output as `sdot_simple_projectile_motion()`.\n",
    "    h: float\n",
    "        The stepping time in seconds\n",
    "    stopping_time: float\n",
    "        The time at which to stop integrating\n",
    "        \n",
    "    Returns\n",
    "    -------\n",
    "    x_of_t, z_of_t: a tuple of arrays or lists\n",
    "        The estimated solution for s0 in x and z\n",
    "    \"\"\"\n",
    "    #TBD\n",
    "    return x_of_t, z_of_t"
   ]
  },
  {
   "cell_type": "markdown",
   "id": "59723f64",
   "metadata": {},
   "source": [
    "<div class=\"alert alert-block alert-success\">\n",
    "<b>Solution to Challenge 1:</b> \n",
    "</div>"
   ]
  },
  {
   "cell_type": "code",
   "execution_count": 13,
   "id": "01b8c069",
   "metadata": {},
   "outputs": [],
   "source": [
    "def eulers_method(t0, s0, sdot, h, stopping_time):\n",
    "    \"\"\" Implementation of Euler's method\n",
    "    \n",
    "    Parameters\n",
    "    ----------\n",
    "    t0: float\n",
    "        The initial time in seconds\n",
    "    s0: array of length 4\n",
    "        The initial position s(t_0) = [x_0, z_0, xdot_0, zdot_0]\n",
    "    sdot: function\n",
    "        A function with the same input/output as `sdot_simple_projectile_motion()`.\n",
    "    h: float\n",
    "        The stepping time in seconds\n",
    "    stopping_time: float\n",
    "        The time at which to stop integrating\n",
    "        \n",
    "    Returns\n",
    "    -------\n",
    "    x_of_t, z_of_t: a tuple of arrays or lists\n",
    "        The estimated solution for s0 in x and z\n",
    "    \"\"\"\n",
    "    t = t0\n",
    "    s_of_t = [s0]\n",
    "    while t <= stopping_time:\n",
    "        snp1 = s_of_t[-1] + h * sdot(t, s_of_t[-1])\n",
    "        t += h\n",
    "        s_of_t.append(snp1)\n",
    "    return np.array(s_of_t)[:, 0], np.array(s_of_t)[:, 1]"
   ]
  },
  {
   "cell_type": "markdown",
   "id": "eda4ac99",
   "metadata": {},
   "source": [
    "<div class=\"alert alert-block alert-danger\">\n",
    "<b>Challenge 2:</b> Verify that your implementation of Euler's solution visually agreed with the exact solution by plotting the result \n",
    "</div>"
   ]
  },
  {
   "cell_type": "markdown",
   "id": "290cc7bf",
   "metadata": {},
   "source": [
    "<div class=\"alert alert-block alert-success\">\n",
    "<b>Solution to Challenge 2:</b> \n",
    "</div>"
   ]
  },
  {
   "cell_type": "code",
   "execution_count": 17,
   "id": "fa55f6a5",
   "metadata": {},
   "outputs": [
    {
     "data": {
      "image/png": "[encoded data removed]",
      "text/plain": [
       "<Figure size 432x288 with 1 Axes>"
      ]
     },
     "metadata": {
      "needs_background": "light"
     },
     "output_type": "display_data"
    }
   ],
   "source": [
    "# Define our variables\n",
    "theta = 0.2\n",
    "mass = 1\n",
    "v0 = 30\n",
    "little_g = 9.81\n",
    "t0 = 0\n",
    "stopping_time = 1\n",
    "h = 1e-3\n",
    "\n",
    "s0 = np.array([0, 0, v0 * np.cos(theta), v0 * np.sin(theta)])\n",
    "x_of_t_euler, z_of_t_euler = eulers_method(t0, s0, sdot_simple_projectile_motion, h, stopping_time)\n",
    "\n",
    "time = np.linspace(0, 1, 100)\n",
    "x_of_t, z_of_t = simple_projectile_motion_closed_form(time, v0, theta, mass)\n",
    "\n",
    "fig, ax = plt.subplots()\n",
    "ax.plot(x_of_t, z_of_t, label=\"Exact solution\")\n",
    "ax.plot(x_of_t_euler, z_of_t_euler, ls='--', label=\"Euler's method solution\")\n",
    "ax.set(xlabel=\"x [m]\", ylabel=\"z [m]\")\n",
    "ax.legend()\n",
    "plt.show()"
   ]
  },
  {
   "cell_type": "markdown",
   "id": "c68e08d4",
   "metadata": {},
   "source": [
    "<div class=\"alert alert-block alert-danger\">\n",
    "<b>Challenge 3:</b> Calculate the Mean Squared Error (MSE) between your solutions and the exact solution\n",
    "</div>"
   ]
  },
  {
   "cell_type": "markdown",
   "id": "501cd952",
   "metadata": {},
   "source": [
    "<div class=\"alert alert-block alert-danger\">\n",
    "<b>Challenge 4:</b> Show that the MSE reduces as a function of the time step `h`\n",
    "</div>"
   ]
  },
  {
   "cell_type": "markdown",
   "id": "115706bc",
   "metadata": {},
   "source": [
    "## Projectile Motion with Drag\n",
    "\n",
    "The simple projectile motion problem above can easily be modified to take account of drag (also known as air resistance) by adding a second force to the net force experience by the projectile: \n",
    "$$ \\mathbf{F} = -mg \\hat{z} + \\mathbf{F}_{d}\\,. $$\n",
    "For an object weighing a few kilograms passing through air, the drag force can be modelled as\n",
    "$$ \\mathbf{F}_d = -\\frac{1}{2}\\rho  C_d A |\\mathbf{v}|^2 \\frac{\\mathbf{v}}{|\\mathbf{v}|}\\, $$\n",
    "Where $\\rho$ is the density of the fluid, $\\mathbf{v}$ is the velocity of the object, $A$ is the cross-sectional area, and $C_d$ is a drag coefficient parameterising the shape of the object (for a sphere $C_d=0.47$)."
   ]
  },
  {
   "cell_type": "markdown",
   "id": "85b045fb",
   "metadata": {},
   "source": [
    "<div class=\"alert alert-block alert-danger\">\n",
    "<b>Challenge 5:</b> Derive the Initial Value Problem (i.e. $\\dot{\\mathbf{s}}(t)=f(t, \\mathbf{s}(t))$ for projectile motion with drag\n",
    "</div>"
   ]
  },
  {
   "cell_type": "markdown",
   "id": "71a9a1ca",
   "metadata": {},
   "source": [
    "<div class=\"alert alert-block alert-success\">\n",
    "<b>Solution to Challenge 5:</b> \n",
    "</div>"
   ]
  },
  {
   "cell_type": "markdown",
   "id": "31e287fe",
   "metadata": {},
   "source": [
    "$$ m \\ddot{\\mathbf{r}} = -mg \\hat{z} - \\epsilon \\mathbf{v} $$\n",
    "\n",
    "$$ \\ddot{x} = -\\frac{\\epsilon}{m} \\dot{x} $$\n",
    "\n",
    "$$ \\ddot{z} = -gz -\\frac{\\epsilon}{m} \\dot{z} $$\n",
    "\n",
    "\n",
    "$$ \\mathbf{y} = \\left[\\begin{array}{c} x \\\\ z \\\\ \\dot{x} \\\\ \\dot{z} \\end{array}\\right] $$\n",
    "\n",
    "$$ \\dot{\\mathbf{y}} = \\left[\\begin{array}{c} \\dot{x} \\\\ \\dot{z} \\\\ \\ddot{x} \\\\ \\ddot{z} \\end{array}\\right] =\\left[\\begin{array}{c} \\dot{x} \\\\ \\dot{y} \\\\ -\\frac{\\epsilon}{m} \\dot{x} \\\\ -gz -\\frac{\\epsilon}{m} \\dot{z} \\end{array}\\right] $$"
   ]
  },
  {
   "cell_type": "markdown",
   "id": "11d218e4",
   "metadata": {},
   "source": [
    "<div class=\"alert alert-block alert-danger\">\n",
    "<b>Challenge 6:</b> Using `solve_ivp`, solve the projectile motion problem for a mass... TBD\n",
    "</div>"
   ]
  },
  {
   "cell_type": "markdown",
   "id": "08beecb6",
   "metadata": {},
   "source": [
    "<div class=\"alert alert-block alert-success\">\n",
    "<b>Solution to Challenge 6:</b> \n",
    "</div>"
   ]
  },
  {
   "cell_type": "markdown",
   "id": "5e190e13",
   "metadata": {},
   "source": [
    "<div class=\"alert alert-block alert-danger\">\n",
    "<b>Challenge 7:</b> Increase the time and explain the behaviour\n",
    "</div>"
   ]
  },
  {
   "cell_type": "markdown",
   "id": "2ad43026",
   "metadata": {},
   "source": [
    "<div class=\"alert alert-block alert-success\">\n",
    "<b>Solution to Challenge 7:</b> \n",
    "</div>"
   ]
  },
  {
   "cell_type": "markdown",
   "id": "8fff40d5",
   "metadata": {},
   "source": [
    "<div class=\"alert alert-block alert-danger\">\n",
    "<b>Challenge 7:</b> Read the documentation of `solve_ivp` and introduce an `event` to stop the integration when it hits the floor\n",
    "</div>"
   ]
  },
  {
   "cell_type": "markdown",
   "id": "bd4c9d5e",
   "metadata": {},
   "source": [
    "<div class=\"alert alert-block alert-success\">\n",
    "<b>Solution to Challenge 7:</b> \n",
    "</div>"
   ]
  },
  {
   "cell_type": "code",
   "execution_count": null,
   "id": "3878f821",
   "metadata": {},
   "outputs": [],
   "source": [
    "from scipy.integrate import solve_ivp\n",
    "\n",
    "epsilon = 2\n",
    "mass = 1\n",
    "little_g = 9.8\n",
    "\n",
    "def ydot(t, y):\n",
    "    z = y[1]\n",
    "    xdot = y[2]\n",
    "    zdot = y[3]\n",
    "    xddot = - epsilon / mass * xdot\n",
    "    zddot = - little_g * z - epsilon / mass * zdot\n",
    "    return np.array([xdot, zdot, xddot, zddot])\n",
    "\n",
    "v0 = 10\n",
    "theta = np.radians(45)\n",
    "y0 = [0, 0.1, v0 * np.cos(theta), v0 * np.sin(theta)]\n",
    "t_span = (0, 10)\n",
    "t_eval = np.linspace(0, 10, 1000)\n",
    "def hit_the_floor(t, y):\n",
    "    return y[1]\n",
    "hit_the_floor.terminal = True\n",
    "output = solve_ivp(ydot, t_span, y0, t_eval=t_eval, events=[hit_the_floor])"
   ]
  }
 ],
 "metadata": {
  "kernelspec": {
   "display_name": "Python 3 (ipykernel)",
   "language": "python",
   "name": "python3"
  },
  "language_info": {
   "codemirror_mode": {
    "name": "ipython",
    "version": 3
   },
   "file_extension": ".py",
   "mimetype": "text/x-python",
   "name": "python",
   "nbconvert_exporter": "python",
   "pygments_lexer": "ipython3",
   "version": "3.9.7"
  }
 },
 "nbformat": 4,
 "nbformat_minor": 5
}
