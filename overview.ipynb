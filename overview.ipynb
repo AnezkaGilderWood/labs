{
 "cells": [
  {
   "cell_type": "markdown",
   "id": "17b64465",
   "metadata": {},
   "source": [
    "# Advanced methods in Python and software development\n",
    "\n",
    "In this module, you will learn advanced methods in python and software development. We will build on the ideas you learned in PH2150. The ultimate goal will be to write a software package which enables users to solve the Time-Dependent Schrödinger Equation for an arbitrary potential. You will do this in a team, using open-source collaboration tools on `GitHub`, and packaging your software so that others can use it. While the content of this module is inextricably physics, you will be assesed on five key skills:\n",
    "\n",
    "1. The quality of the software you deliver\n",
    "2. The use of collaborative working tools\n",
    "3. The application of standardized software development practises\n",
    "4. The development of integrated testing and documentation into your software\n",
    "5. The extension of the basic module\n",
    "\n",
    "You may ask, why are these skills important?\n",
    "\n",
    "The days of the lone-programmer silently tapping away in her basement to develop software are gone. Nowadays, across all areas of Physics, data science, education, finance, etc, software is developed by teams of people. It is likely that in your future career you may be such a person. The software you write might be finding new particles at the LHC, measuring the impact of climate change on our World, helping customers to purchase a better car, or pricing options for a bank. But whatever it does, you will no doubt want it to do the job well! However, working in a large team is difficult. Your colleagues may be distributed across the globe, in many timezones, and all working on the same piece of software. \n",
    "\n",
    "In such an environment, you can't just email your \"software\" to your colleague and then wait for them to add their bits before running it. We need to be able to develop code together in a distributed fashion. We also want that code to meet certain quality requirements. And, when someone changes the code, it shouldn't break everything! The means to meet these requirements have largely been solved by the open-source community. Millions of people worldwide write code together collaboratively. Often, they have never met and might not even speak the same language. In this module, you will get a taster for how this is done in practice. \n",
    "\n"
   ]
  },
  {
   "cell_type": "markdown",
   "id": "2446b970",
   "metadata": {},
   "source": [
    "## About these notes\n",
    "\n",
    "These notes are built using a [jupyter](https://jupyter.org/) notebook. There are several bits of syntax you need to know:\n",
    "1. Cells which contain python look like this:"
   ]
  },
  {
   "cell_type": "code",
   "execution_count": 3,
   "id": "5cebf4bf",
   "metadata": {},
   "outputs": [
    {
     "name": "stdout",
     "output_type": "stream",
     "text": [
      "Hello world\n"
     ]
    }
   ],
   "source": [
    "print(\"Hello world\")"
   ]
  },
  {
   "cell_type": "markdown",
   "id": "33ccdce8",
   "metadata": {},
   "source": [
    "2. The notes where built using"
   ]
  },
  {
   "cell_type": "code",
   "execution_count": 22,
   "id": "bd1026a9",
   "metadata": {},
   "outputs": [
    {
     "name": "stdout",
     "output_type": "stream",
     "text": [
      "We are using python version 3.9.7 (default, Sep 16 2021, 13:09:58) \n",
      "[GCC 7.5.0]\n",
      "We are using numpy version 1.20.3\n",
      "We are using matplotlib version 3.3.4\n",
      "We are using scipy version 1.5.3\n"
     ]
    }
   ],
   "source": [
    "import sys, numpy, matplotlib, scipy\n",
    "print(f\"We are using python version {sys.version}\")\n",
    "\n",
    "for module in numpy, matplotlib, scipy:\n",
    "    print(f\"We are using {module.__name__} version {module.__version__}\")"
   ]
  },
  {
   "cell_type": "markdown",
   "id": "b2e0d67d",
   "metadata": {},
   "source": [
    "3. Cells which start with an exclamation point are running the command in the host linux environment, e.g here we use the linux `date` program:"
   ]
  },
  {
   "cell_type": "code",
   "execution_count": 23,
   "id": "896a7ddf",
   "metadata": {},
   "outputs": [
    {
     "name": "stdout",
     "output_type": "stream",
     "text": [
      "Mon May 30 14:32:30 BST 2022\r\n"
     ]
    }
   ],
   "source": [
    "! date"
   ]
  },
  {
   "cell_type": "markdown",
   "id": "b725b682",
   "metadata": {},
   "source": [
    "4. To successfully complete this project, you will need access to `python` and `git`. Assuming you have both of these installed and access to a terminal, run the following commands:\n",
    "\n",
    "```terminal\n",
    "$ git clone https://github.com/GregoryAshton/PH3010_advanced_python.git\n",
    "$ cd PH3010_advanced_python/\n",
    "$ pip install -r requirements.txt\n",
    "$ jupyter notebook\n",
    "```\n",
    "\n",
    "This will launch the jupyter notebook in your browser (or print a message on how to access it). From there you can directly open these files and run the codes directly. You should try editing the code cells to better understand what it happening as you read through."
   ]
  },
  {
   "cell_type": "code",
   "execution_count": null,
   "id": "5c4f7afa",
   "metadata": {},
   "outputs": [],
   "source": []
  },
  {
   "cell_type": "markdown",
   "id": "381b605e",
   "metadata": {},
   "source": [
    "4. You can read these notes online, but it is strongly advised that you instead "
   ]
  },
  {
   "cell_type": "markdown",
   "id": "c69996fb",
   "metadata": {},
   "source": [
    "With these preliminaries out of the way, let's get to the content. We organise the module around three weeks. In each week, there are several introductory notebooks that introduce concepts which we will need.\n",
    "\n",
    "## Week 1\n",
    "* [Getting started with git](./Getting_started_with_git.ipynb)\n",
    "* [Numerical Solutions to Initial Value Problems](./Numerical_Solutions_to_Initial_Value_Problems.ipynb)\n",
    "* [Week 1 challenge questions]\n",
    "\n",
    "## Week 2\n",
    "* [Advanced Python]\n",
    "* [Solving Schroedinger's Equation]"
   ]
  },
  {
   "cell_type": "code",
   "execution_count": null,
   "id": "fff10084",
   "metadata": {},
   "outputs": [],
   "source": []
  }
 ],
 "metadata": {
  "kernelspec": {
   "display_name": "Python 3 (ipykernel)",
   "language": "python",
   "name": "python3"
  },
  "language_info": {
   "codemirror_mode": {
    "name": "ipython",
    "version": 3
   },
   "file_extension": ".py",
   "mimetype": "text/x-python",
   "name": "python",
   "nbconvert_exporter": "python",
   "pygments_lexer": "ipython3",
   "version": "3.9.7"
  }
 },
 "nbformat": 4,
 "nbformat_minor": 5
}
