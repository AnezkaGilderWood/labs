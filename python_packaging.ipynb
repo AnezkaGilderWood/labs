{
 "cells": [
  {
   "cell_type": "markdown",
   "id": "aefd0262",
   "metadata": {},
   "source": [
    "# Python Packaging\n",
    "\n",
    "In this notebook, we cover the topic of packaging, distributing and testing a python package."
   ]
  },
  {
   "cell_type": "markdown",
   "id": "2e09b003",
   "metadata": {},
   "source": [
    "## Distributing your program: scripts\n",
    "\n",
    "The simplest way to distribute your python program is to use a script. That is you write a text file which contains the program. Users can then run it using any python interpreter (providing they have the correct dependencies). For example, here is a simple script to print out date"
   ]
  },
  {
   "cell_type": "code",
   "execution_count": null,
   "id": "2e39b92e",
   "metadata": {},
   "outputs": [],
   "source": [
    "%%writefile script_to_print_the_date.py\n",
    "\n",
    "import time\n",
    "print(time.strftime('%Y-%m-%d', time.localtime()))"
   ]
  },
  {
   "cell_type": "code",
   "execution_count": null,
   "id": "24b2d299",
   "metadata": {},
   "outputs": [],
   "source": [
    "! python script_to_print_the_date.py"
   ]
  },
  {
   "cell_type": "markdown",
   "id": "3828d28f",
   "metadata": {},
   "source": [
    "## Distributing your program: packages\n",
    "\n",
    "A script is great, you can email it to someone and they can run your code! But, what if you want to improve the program, or what if they want to use the script as part of a larger program, or what if hundreds of people want your script? The answer to these questions is to make a `package`. \n",
    "\n",
    "You can find instructions on this topic [here](https://packaging.python.org/en/latest/tutorials/packaging-projects/)"
   ]
  },
  {
   "cell_type": "markdown",
   "id": "1a1c1933",
   "metadata": {},
   "source": [
    "## Distributed Development"
   ]
  },
  {
   "cell_type": "markdown",
   "id": "624dcce6",
   "metadata": {},
   "source": [
    "## Testing"
   ]
  },
  {
   "cell_type": "markdown",
   "id": "dd1af021",
   "metadata": {},
   "source": [
    "## Continuous Integration (CI)"
   ]
  },
  {
   "cell_type": "code",
   "execution_count": null,
   "id": "0e20a5f6",
   "metadata": {},
   "outputs": [],
   "source": []
  }
 ],
 "metadata": {
  "kernelspec": {
   "display_name": "Python 3 (ipykernel)",
   "language": "python",
   "name": "python3"
  },
  "language_info": {
   "codemirror_mode": {
    "name": "ipython",
    "version": 3
   },
   "file_extension": ".py",
   "mimetype": "text/x-python",
   "name": "python",
   "nbconvert_exporter": "python",
   "pygments_lexer": "ipython3",
   "version": "3.9.7"
  }
 },
 "nbformat": 4,
 "nbformat_minor": 5
}
